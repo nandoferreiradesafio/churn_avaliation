{
 "cells": [
  {
   "cell_type": "markdown",
   "id": "db57ae02",
   "metadata": {},
   "source": [
    "# 0. Imports and Initial Configs"
   ]
  },
  {
   "cell_type": "markdown",
   "id": "62dfbe33",
   "metadata": {},
   "source": [
    "## 0.1. Libraries"
   ]
  },
  {
   "cell_type": "code",
   "execution_count": 1,
   "id": "b5535bf6",
   "metadata": {},
   "outputs": [],
   "source": [
    "# Gerais\n",
    "import pandas as pd\n",
    "import numpy as np\n",
    "import warnings\n",
    "\n",
    "# Graficos\n",
    "import seaborn as sns\n",
    "from matplotlib import pyplot as plt"
   ]
  },
  {
   "cell_type": "markdown",
   "id": "64d12409",
   "metadata": {},
   "source": [
    "## 0.2 Initial Config"
   ]
  },
  {
   "cell_type": "code",
   "execution_count": 2,
   "id": "d5026d4a",
   "metadata": {},
   "outputs": [],
   "source": [
    "# Comando para remover os warnings\n",
    "warnings.filterwarnings(\"ignore\")\n",
    "\n",
    "# Comando para configurar o pandas e remover o limite de exibição\n",
    "# de linhas e colunas\n",
    "pd.set_option('display.max_rows', 100)\n",
    "pd.set_option('display.max_columns', None)\n",
    "\n",
    "# Suppres scientific notation\n",
    "pd.set_option('display.float_format', lambda x: f'{x:,.3f}')"
   ]
  },
  {
   "cell_type": "markdown",
   "id": "f06827e5",
   "metadata": {},
   "source": [
    "## 0.3 Loading Data"
   ]
  },
  {
   "cell_type": "code",
   "execution_count": 3,
   "id": "88f5ba5d",
   "metadata": {},
   "outputs": [],
   "source": [
    "path_name = '../data/raw/raw_data.csv'\n",
    "\n",
    "df_raw = pd.read_csv(path_name)"
   ]
  },
  {
   "cell_type": "markdown",
   "id": "6fd51083",
   "metadata": {},
   "source": [
    "## 0.4. Helper Functions"
   ]
  },
  {
   "cell_type": "markdown",
   "id": "b1f16338",
   "metadata": {},
   "source": [
    "### 0.4.1. save_data"
   ]
  },
  {
   "cell_type": "code",
   "execution_count": 4,
   "id": "f0c798c1",
   "metadata": {},
   "outputs": [],
   "source": [
    "def save_data_csv(df: pd.DataFrame, path_arquivo: str):\n",
    "    try:\n",
    "        df.to_csv(path_arquivo, index=False)\n",
    "        print(f\"Arquivo salvo com sucesso em: {path_arquivo}\")\n",
    "    except Exception as e:\n",
    "        print(f\"Erro ao salvar o arquivo: {e}\")\n",
    "\n",
    "\n",
    "def save_data_excel(df: pd.DataFrame, path_arquivo: str):\n",
    "    try:\n",
    "        df.to_excel(path_arquivo, index=False)\n",
    "        print(f\"Arquivo salvo com sucesso em: {path_arquivo}\")\n",
    "    except Exception as e:\n",
    "        print(f\"Erro ao salvar o arquivo: {e}\")"
   ]
  },
  {
   "cell_type": "markdown",
   "id": "78d8bc2b",
   "metadata": {},
   "source": [
    " ### 0.4.2. get_numerical_attributes"
   ]
  },
  {
   "cell_type": "code",
   "execution_count": 5,
   "id": "d8bbbdb9",
   "metadata": {},
   "outputs": [],
   "source": [
    "def get_numerical_attributes(data):\n",
    "    return data.select_dtypes(include=['int32', 'int64', 'float32', 'float64'])"
   ]
  },
  {
   "cell_type": "markdown",
   "id": "3ca709be",
   "metadata": {},
   "source": [
    "### 0.4.3. get_categorical_attributes"
   ]
  },
  {
   "cell_type": "code",
   "execution_count": 6,
   "id": "250ff960",
   "metadata": {},
   "outputs": [],
   "source": [
    "def get_categorical_attributes(data):\n",
    "    return data.select_dtypes(exclude=['int32', 'int64', 'float32', 'float64', 'datetime64[ns]'])"
   ]
  },
  {
   "cell_type": "markdown",
   "id": "610589d1",
   "metadata": {},
   "source": [
    "### 0.4.4. get_date_attributes"
   ]
  },
  {
   "cell_type": "code",
   "execution_count": 7,
   "id": "19482704",
   "metadata": {},
   "outputs": [],
   "source": [
    "def get_date_attributes(data):\n",
    "    return data.select_dtypes(include=['datetime64[ns]'])"
   ]
  },
  {
   "cell_type": "markdown",
   "id": "ce4806a4",
   "metadata": {},
   "source": [
    "### 0.4.5. get_descriptive_info"
   ]
  },
  {
   "cell_type": "code",
   "execution_count": 8,
   "id": "3062f8da",
   "metadata": {},
   "outputs": [],
   "source": [
    "def get_descriptive_info(data):\n",
    "    num_attributes = get_numerical_attributes(data)\n",
    "\n",
    "    # NaN Percent\n",
    "    df_na = pd.DataFrame(round(num_attributes.isna().sum() / num_attributes.shape[0] * 100, 3)).T\n",
    "\n",
    "    # Central Tendency - mean, median\n",
    "    df_mean = pd.DataFrame(num_attributes.apply(np.mean)).T\n",
    "    df_median = pd.DataFrame(num_attributes.apply(np.median)).T\n",
    "\n",
    "    # Dipersion - std, min, max, range, skew, kurtosis\n",
    "    df_std = pd.DataFrame(num_attributes.apply(np.std)).T\n",
    "    df_min = pd.DataFrame(num_attributes.apply(min)).T\n",
    "    df_max = pd.DataFrame(num_attributes.apply(max)).T\n",
    "    df_range = pd.DataFrame(num_attributes.apply(lambda x: x.max() - x.min())).T\n",
    "    df_skew = pd.DataFrame(num_attributes.apply(lambda x: x.skew())).T\n",
    "    df_kurtosis = pd.DataFrame(num_attributes.apply(lambda x: x.kurtosis())).T\n",
    "\n",
    "    # min, max, range, mean, median, std, skew, kurtosis\n",
    "    df_descriptive_info = pd.concat([df_na, df_min, df_max, df_range,\n",
    "                                    df_mean, df_median, df_std,\n",
    "                                    df_skew, df_kurtosis]).T.reset_index()\n",
    "\n",
    "    df_descriptive_info.columns = ['attributes', 'nan (%)', 'min', 'max',\n",
    "                                    'range', 'mean', 'median',\n",
    "                                    'std', 'skew', 'kurtosis']\n",
    "\n",
    "    return df_descriptive_info"
   ]
  },
  {
   "cell_type": "markdown",
   "id": "7ce8ba7c",
   "metadata": {},
   "source": [
    "### 0.4.6. print_column_unique_values_info"
   ]
  },
  {
   "cell_type": "code",
   "execution_count": 9,
   "id": "7631c8f7",
   "metadata": {},
   "outputs": [],
   "source": [
    "def print_column_unique_values_info(df: pd.DataFrame, column_name: str, num_values: int = 5):\n",
    "    unique_values = df[column_name].unique()\n",
    "\n",
    "    print(f'Tipo da coluna: {df[column_name].dtype}')\n",
    "    print(f'Quantidade de Valores Únicos: {len(unique_values)}')\n",
    "    print(f'{num_values} primeiros Valores Únicos: {unique_values[:num_values]}')"
   ]
  },
  {
   "cell_type": "markdown",
   "id": "7ee8aa31",
   "metadata": {},
   "source": [
    "### 0.4.7. plot_numerical_column_distrubtion"
   ]
  },
  {
   "cell_type": "code",
   "execution_count": 10,
   "id": "f4bbcc13",
   "metadata": {},
   "outputs": [],
   "source": [
    "def plot_numerical_column_distrubtion(df: pd.DataFrame, column_name: str):\n",
    "    # fig, axs = plt.subplots(3, 1, figsize=(20, 12))\n",
    "    fig, axs = plt.subplots(3, 1, figsize=(10, 4))\n",
    "\n",
    "    sns.boxplot(x=df[column_name], ax=axs[0])\n",
    "    axs[0].set_title(f'Boxplot da {column_name}')\n",
    "    axs[0].set_xlabel(column_name)\n",
    "\n",
    "    sns.histplot(df[column_name], bins=30, ax=axs[1], kde=False)\n",
    "    axs[1].set_title(f'Histograma da {column_name}')\n",
    "    axs[1].set_xlabel(column_name)\n",
    "    axs[1].set_ylabel('Frequência')\n",
    "\n",
    "    sns.kdeplot(df[column_name], ax=axs[2], shade=True)\n",
    "    axs[2].set_title(f'Gráfico de Densidade da {column_name}')\n",
    "    axs[2].set_xlabel(column_name)\n",
    "    axs[2].set_ylabel('Densidade')\n",
    "\n",
    "    plt.tight_layout()\n",
    "    plt.show()"
   ]
  },
  {
   "cell_type": "markdown",
   "id": "1926d426",
   "metadata": {},
   "source": [
    "### 0.4.8. get_categorical_info"
   ]
  },
  {
   "cell_type": "code",
   "execution_count": 11,
   "id": "7b07af22",
   "metadata": {},
   "outputs": [],
   "source": [
    "def get_categorical_info(data: pd.DataFrame) -> pd.DataFrame:\n",
    "    cat_attributes = get_categorical_attributes(data)\n",
    "\n",
    "    df_na = pd.DataFrame(round(cat_attributes.isna().sum() / cat_attributes.shape[0] * 100, 3)).T\n",
    "\n",
    "    df_types = pd.DataFrame(cat_attributes.dtypes).T\n",
    "\n",
    "    df_unique = pd.DataFrame(cat_attributes.nunique()).T\n",
    "\n",
    "    df_mode = pd.DataFrame(cat_attributes.apply(lambda x: x.mode().iloc[0] if not x.mode().empty else np.nan)).T\n",
    "\n",
    "    df_mode_freq = pd.DataFrame(cat_attributes.apply(lambda x: x.value_counts().iloc[0] if not x.value_counts().empty else np.nan)).T\n",
    "\n",
    "    df_categorical_info = pd.concat([df_na, df_types, df_unique, df_mode, df_mode_freq]).T.reset_index()\n",
    "\n",
    "    df_categorical_info.columns = ['attributes', 'nan (%)', 'dtype', 'unique', 'mode', 'mode_freq']\n",
    "\n",
    "    return df_categorical_info.sort_values(by='unique', ascending=True)"
   ]
  },
  {
   "cell_type": "markdown",
   "id": "d03797f1",
   "metadata": {},
   "source": [
    "### 0.4.9. get_top_values"
   ]
  },
  {
   "cell_type": "code",
   "execution_count": 12,
   "id": "1f1398bf",
   "metadata": {},
   "outputs": [],
   "source": [
    "def get_top_values(dataframe, column_name, top_n=15):\n",
    "    print('=-' * 35)\n",
    "    print(f'Top {top_n} mais frequentes em \"{column_name}\"')\n",
    "    print('=-' * 35)\n",
    "    value_counts = dataframe[column_name].value_counts().head(top_n)\n",
    "    print(value_counts)\n",
    "    print('=-' * 35)\n",
    "    total_unique = dataframe[column_name].nunique()\n",
    "    print(f'Total Unique: {total_unique}')\n",
    "\n",
    "    return value_counts.index.to_numpy()"
   ]
  },
  {
   "cell_type": "markdown",
   "id": "bf5a55ef",
   "metadata": {},
   "source": [
    "### 0.4.10 plot_categorical_eda"
   ]
  },
  {
   "cell_type": "code",
   "execution_count": 13,
   "id": "6088252d",
   "metadata": {},
   "outputs": [],
   "source": [
    "def plot_categorical_eda(dataframe, column):\n",
    "    category_counts = dataframe[column].value_counts()\n",
    "\n",
    "    category_counts_cumsum = category_counts.cumsum()\n",
    "    category_counts_cumperc = 100 * category_counts_cumsum / category_counts.sum()\n",
    "\n",
    "    # fig, axes = plt.subplots(2, 1, figsize=(20, 10))\n",
    "\n",
    "    fig, axes = plt.subplots(2, 1, figsize=(10, 4))\n",
    "\n",
    "    sns.barplot(x=category_counts.index, y=category_counts.values, palette='viridis', ax=axes[0])\n",
    "    axes[0].set_title('Frequência das Categorias')\n",
    "    axes[0].set_xlabel('Categorias')\n",
    "    axes[0].set_ylabel('Frequência')\n",
    "    axes[0].tick_params(axis='x', rotation=45)\n",
    "\n",
    "    axes[1].bar(category_counts.index, category_counts.values, color='C0')\n",
    "    ax1 = axes[1].twinx()\n",
    "    ax1.plot(category_counts.index, category_counts_cumperc, color='C1', marker='D', ms=7)\n",
    "    axes[1].axhline(0.8 * category_counts.sum(), color='C2', linestyle='dashed')\n",
    "\n",
    "    axes[1].set_xlabel('Categorias')\n",
    "    axes[1].set_ylabel('Frequência')\n",
    "    ax1.set_ylabel('Frequência Acumulada (%)')\n",
    "    axes[1].set_title('Gráfico de Pareto')\n",
    "\n",
    "    axes[1].tick_params(axis='x', rotation=45)\n",
    "\n",
    "    plt.tight_layout()\n",
    "    plt.show()"
   ]
  },
  {
   "cell_type": "markdown",
   "id": "d87f2fd4",
   "metadata": {},
   "source": [
    "### 0.4.11 plot_temporal_column_distribution"
   ]
  },
  {
   "cell_type": "code",
   "execution_count": 14,
   "id": "1344f239",
   "metadata": {},
   "outputs": [],
   "source": [
    "def plot_temporal_column_distribution(df: pd.DataFrame, column_name: str):\n",
    "    df[column_name] = pd.to_datetime(df[column_name], errors='coerce')\n",
    "\n",
    "    # fig, axs = plt.subplots(3, 1, figsize=(20, 15))\n",
    "\n",
    "    fig, axs = plt.subplots(3, 1, figsize=(15, 8))\n",
    "\n",
    "    daily_counts = df[column_name].dt.date.value_counts().sort_index()\n",
    "    axs[0].plot(daily_counts.index, daily_counts.values, marker='o')\n",
    "    axs[0].set_title(f'Contagem Diária de {column_name}')\n",
    "    axs[0].set_xlabel('Data')\n",
    "    axs[0].set_ylabel('Contagem')\n",
    "    axs[0].tick_params(axis='x', rotation=45)\n",
    "\n",
    "    monthly_counts = df[column_name].dt.to_period('M').value_counts().sort_index()\n",
    "    monthly_counts.plot(kind='bar', ax=axs[1], color='skyblue')\n",
    "    axs[1].set_title(f'Frequência Mensal de {column_name}')\n",
    "    axs[1].set_xlabel('Mês')\n",
    "    axs[1].set_ylabel('Frequência')\n",
    "    axs[1].tick_params(axis='x', rotation=45)\n",
    "\n",
    "    df['day'] = df[column_name].dt.day\n",
    "    sns.boxplot(x='day', y=df[column_name].dt.month, data=df, ax=axs[2])\n",
    "    axs[2].set_title(f'Distribuição Diaria de {column_name}')\n",
    "    axs[2].set_xlabel('Dia')\n",
    "    axs[2].set_ylabel('Mês')\n",
    "\n",
    "    plt.tight_layout()\n",
    "    plt.show()\n",
    "\n",
    "    df.drop(columns=['day'], inplace=True)"
   ]
  },
  {
   "cell_type": "markdown",
   "id": "a7bfae9f",
   "metadata": {},
   "source": [
    "# 1. Pre Processing"
   ]
  },
  {
   "cell_type": "code",
   "execution_count": 15,
   "id": "885bf711",
   "metadata": {},
   "outputs": [],
   "source": [
    "df1 = df_raw.copy()"
   ]
  },
  {
   "cell_type": "code",
   "execution_count": 16,
   "id": "1b8c1a60",
   "metadata": {},
   "outputs": [
    {
     "data": {
      "text/html": [
       "<div>\n",
       "<style scoped>\n",
       "    .dataframe tbody tr th:only-of-type {\n",
       "        vertical-align: middle;\n",
       "    }\n",
       "\n",
       "    .dataframe tbody tr th {\n",
       "        vertical-align: top;\n",
       "    }\n",
       "\n",
       "    .dataframe thead th {\n",
       "        text-align: right;\n",
       "    }\n",
       "</style>\n",
       "<table border=\"1\" class=\"dataframe\">\n",
       "  <thead>\n",
       "    <tr style=\"text-align: right;\">\n",
       "      <th></th>\n",
       "      <th>0</th>\n",
       "      <th>1</th>\n",
       "    </tr>\n",
       "  </thead>\n",
       "  <tbody>\n",
       "    <tr>\n",
       "      <th>id</th>\n",
       "      <td>704867</td>\n",
       "      <td>533495</td>\n",
       "    </tr>\n",
       "    <tr>\n",
       "      <th>won_time</th>\n",
       "      <td>2022-03-25</td>\n",
       "      <td>2022-06-21</td>\n",
       "    </tr>\n",
       "    <tr>\n",
       "      <th>vendedor</th>\n",
       "      <td>Igor Martins</td>\n",
       "      <td>Rafael Cunha</td>\n",
       "    </tr>\n",
       "    <tr>\n",
       "      <th>mrr (receita recorrente)</th>\n",
       "      <td>669</td>\n",
       "      <td>558</td>\n",
       "    </tr>\n",
       "    <tr>\n",
       "      <th>nrr(receita não recorrente)</th>\n",
       "      <td>242</td>\n",
       "      <td>352</td>\n",
       "    </tr>\n",
       "    <tr>\n",
       "      <th>pipeline_id</th>\n",
       "      <td>16</td>\n",
       "      <td>16</td>\n",
       "    </tr>\n",
       "    <tr>\n",
       "      <th>plano</th>\n",
       "      <td>Astrea Starter</td>\n",
       "      <td>Astrea Starter</td>\n",
       "    </tr>\n",
       "    <tr>\n",
       "      <th>periodicidade</th>\n",
       "      <td>Mensal</td>\n",
       "      <td>Mensal</td>\n",
       "    </tr>\n",
       "    <tr>\n",
       "      <th>churn_rate</th>\n",
       "      <td>0.07</td>\n",
       "      <td>0.11</td>\n",
       "    </tr>\n",
       "  </tbody>\n",
       "</table>\n",
       "</div>"
      ],
      "text/plain": [
       "                                          0               1\n",
       "id                                   704867          533495\n",
       "won_time                         2022-03-25      2022-06-21\n",
       "vendedor                       Igor Martins    Rafael Cunha\n",
       "mrr (receita recorrente)                669             558\n",
       "nrr(receita não recorrente)             242             352\n",
       "pipeline_id                              16              16\n",
       "plano                        Astrea Starter  Astrea Starter\n",
       "periodicidade                        Mensal          Mensal\n",
       "churn_rate                             0.07            0.11"
      ]
     },
     "execution_count": 16,
     "metadata": {},
     "output_type": "execute_result"
    }
   ],
   "source": [
    "df1.head(2).T"
   ]
  },
  {
   "cell_type": "code",
   "execution_count": 17,
   "id": "769c10db",
   "metadata": {},
   "outputs": [
    {
     "data": {
      "text/html": [
       "<div>\n",
       "<style scoped>\n",
       "    .dataframe tbody tr th:only-of-type {\n",
       "        vertical-align: middle;\n",
       "    }\n",
       "\n",
       "    .dataframe tbody tr th {\n",
       "        vertical-align: top;\n",
       "    }\n",
       "\n",
       "    .dataframe thead th {\n",
       "        text-align: right;\n",
       "    }\n",
       "</style>\n",
       "<table border=\"1\" class=\"dataframe\">\n",
       "  <thead>\n",
       "    <tr style=\"text-align: right;\">\n",
       "      <th></th>\n",
       "      <th>id</th>\n",
       "      <th>won_time</th>\n",
       "      <th>vendedor</th>\n",
       "      <th>mrr (receita recorrente)</th>\n",
       "      <th>nrr(receita não recorrente)</th>\n",
       "      <th>pipeline_id</th>\n",
       "      <th>plano</th>\n",
       "      <th>periodicidade</th>\n",
       "      <th>churn_rate</th>\n",
       "    </tr>\n",
       "  </thead>\n",
       "  <tbody>\n",
       "    <tr>\n",
       "      <th>0</th>\n",
       "      <td>704867</td>\n",
       "      <td>2022-03-25</td>\n",
       "      <td>Igor Martins</td>\n",
       "      <td>669</td>\n",
       "      <td>242</td>\n",
       "      <td>16</td>\n",
       "      <td>Astrea Starter</td>\n",
       "      <td>Mensal</td>\n",
       "      <td>0.07</td>\n",
       "    </tr>\n",
       "    <tr>\n",
       "      <th>1</th>\n",
       "      <td>533495</td>\n",
       "      <td>2022-06-21</td>\n",
       "      <td>Rafael Cunha</td>\n",
       "      <td>558</td>\n",
       "      <td>352</td>\n",
       "      <td>16</td>\n",
       "      <td>Astrea Starter</td>\n",
       "      <td>Mensal</td>\n",
       "      <td>0.11</td>\n",
       "    </tr>\n",
       "    <tr>\n",
       "      <th>2</th>\n",
       "      <td>173441</td>\n",
       "      <td>2022-04-18</td>\n",
       "      <td>Fernanda Dias</td>\n",
       "      <td>330</td>\n",
       "      <td>67</td>\n",
       "      <td>16</td>\n",
       "      <td>Astrea Pro</td>\n",
       "      <td>Mensal</td>\n",
       "      <td>0.25</td>\n",
       "    </tr>\n",
       "    <tr>\n",
       "      <th>3</th>\n",
       "      <td>904904</td>\n",
       "      <td>2022-03-15</td>\n",
       "      <td>Igor Martins</td>\n",
       "      <td>778</td>\n",
       "      <td>328</td>\n",
       "      <td>16</td>\n",
       "      <td>Astrea Starter</td>\n",
       "      <td>Mensal</td>\n",
       "      <td>0.07</td>\n",
       "    </tr>\n",
       "    <tr>\n",
       "      <th>4</th>\n",
       "      <td>585660</td>\n",
       "      <td>2023-02-04</td>\n",
       "      <td>Igor Martins</td>\n",
       "      <td>358</td>\n",
       "      <td>114</td>\n",
       "      <td>16</td>\n",
       "      <td>Smart</td>\n",
       "      <td>Mensal</td>\n",
       "      <td>0.07</td>\n",
       "    </tr>\n",
       "  </tbody>\n",
       "</table>\n",
       "</div>"
      ],
      "text/plain": [
       "       id    won_time       vendedor mrr (receita recorrente)  \\\n",
       "0  704867  2022-03-25   Igor Martins                      669   \n",
       "1  533495  2022-06-21   Rafael Cunha                      558   \n",
       "2  173441  2022-04-18  Fernanda Dias                      330   \n",
       "3  904904  2022-03-15   Igor Martins                      778   \n",
       "4  585660  2023-02-04   Igor Martins                      358   \n",
       "\n",
       "  nrr(receita não recorrente) pipeline_id           plano periodicidade  \\\n",
       "0                         242          16  Astrea Starter        Mensal   \n",
       "1                         352          16  Astrea Starter        Mensal   \n",
       "2                          67          16      Astrea Pro        Mensal   \n",
       "3                         328          16  Astrea Starter        Mensal   \n",
       "4                         114          16           Smart        Mensal   \n",
       "\n",
       "  churn_rate  \n",
       "0       0.07  \n",
       "1       0.11  \n",
       "2       0.25  \n",
       "3       0.07  \n",
       "4       0.07  "
      ]
     },
     "execution_count": 17,
     "metadata": {},
     "output_type": "execute_result"
    }
   ],
   "source": [
    "df1.head()"
   ]
  },
  {
   "cell_type": "code",
   "execution_count": 18,
   "id": "5f52ba7a",
   "metadata": {},
   "outputs": [
    {
     "data": {
      "text/plain": [
       "'won_time'"
      ]
     },
     "execution_count": 18,
     "metadata": {},
     "output_type": "execute_result"
    }
   ],
   "source": [
    "df1['won_time'].max()"
   ]
  },
  {
   "cell_type": "markdown",
   "id": "5278100d",
   "metadata": {},
   "source": [
    "## 1.1. Data Types"
   ]
  },
  {
   "cell_type": "code",
   "execution_count": 19,
   "id": "fb95a269",
   "metadata": {},
   "outputs": [
    {
     "data": {
      "text/plain": [
       "id                              int64\n",
       "won_time                       object\n",
       "vendedor                       object\n",
       "mrr (receita recorrente)       object\n",
       "nrr(receita não recorrente)    object\n",
       "pipeline_id                    object\n",
       "plano                          object\n",
       "periodicidade                  object\n",
       "churn_rate                     object\n",
       "dtype: object"
      ]
     },
     "execution_count": 19,
     "metadata": {},
     "output_type": "execute_result"
    }
   ],
   "source": [
    "df1.dtypes"
   ]
  },
  {
   "cell_type": "markdown",
   "id": "cec617ab",
   "metadata": {},
   "source": [
    "## 1.2 Check NA"
   ]
  },
  {
   "cell_type": "code",
   "execution_count": 20,
   "id": "9f569e87",
   "metadata": {},
   "outputs": [
    {
     "data": {
      "text/plain": [
       "id                             0\n",
       "won_time                       0\n",
       "vendedor                       0\n",
       "mrr (receita recorrente)       0\n",
       "nrr(receita não recorrente)    0\n",
       "pipeline_id                    0\n",
       "plano                          0\n",
       "periodicidade                  2\n",
       "churn_rate                     0\n",
       "dtype: int64"
      ]
     },
     "execution_count": 20,
     "metadata": {},
     "output_type": "execute_result"
    }
   ],
   "source": [
    "df1.isna().sum()"
   ]
  },
  {
   "cell_type": "markdown",
   "id": "54ed48a4",
   "metadata": {},
   "source": [
    "## 1.3 Fill NA"
   ]
  },
  {
   "cell_type": "code",
   "execution_count": 21,
   "id": "45c8fd5d",
   "metadata": {},
   "outputs": [
    {
     "data": {
      "text/html": [
       "<div>\n",
       "<style scoped>\n",
       "    .dataframe tbody tr th:only-of-type {\n",
       "        vertical-align: middle;\n",
       "    }\n",
       "\n",
       "    .dataframe tbody tr th {\n",
       "        vertical-align: top;\n",
       "    }\n",
       "\n",
       "    .dataframe thead th {\n",
       "        text-align: right;\n",
       "    }\n",
       "</style>\n",
       "<table border=\"1\" class=\"dataframe\">\n",
       "  <thead>\n",
       "    <tr style=\"text-align: right;\">\n",
       "      <th></th>\n",
       "      <th>id</th>\n",
       "      <th>won_time</th>\n",
       "      <th>vendedor</th>\n",
       "      <th>mrr (receita recorrente)</th>\n",
       "      <th>nrr(receita não recorrente)</th>\n",
       "      <th>pipeline_id</th>\n",
       "      <th>plano</th>\n",
       "      <th>periodicidade</th>\n",
       "      <th>churn_rate</th>\n",
       "    </tr>\n",
       "  </thead>\n",
       "  <tbody>\n",
       "    <tr>\n",
       "      <th>451</th>\n",
       "      <td>533812</td>\n",
       "      <td>2022-06-20</td>\n",
       "      <td>Bruna Lopes</td>\n",
       "      <td>599</td>\n",
       "      <td>130</td>\n",
       "      <td>36</td>\n",
       "      <td>Astrea Starter</td>\n",
       "      <td>NaN</td>\n",
       "      <td>0.07</td>\n",
       "    </tr>\n",
       "    <tr>\n",
       "      <th>837</th>\n",
       "      <td>580830</td>\n",
       "      <td>2022-06-23</td>\n",
       "      <td>Bruna Lopes</td>\n",
       "      <td>755</td>\n",
       "      <td>105</td>\n",
       "      <td>36</td>\n",
       "      <td>Astrea Starter</td>\n",
       "      <td>NaN</td>\n",
       "      <td>0.07</td>\n",
       "    </tr>\n",
       "  </tbody>\n",
       "</table>\n",
       "</div>"
      ],
      "text/plain": [
       "         id    won_time     vendedor mrr (receita recorrente)  \\\n",
       "451  533812  2022-06-20  Bruna Lopes                      599   \n",
       "837  580830  2022-06-23  Bruna Lopes                      755   \n",
       "\n",
       "    nrr(receita não recorrente) pipeline_id           plano periodicidade  \\\n",
       "451                         130          36  Astrea Starter           NaN   \n",
       "837                         105          36  Astrea Starter           NaN   \n",
       "\n",
       "    churn_rate  \n",
       "451       0.07  \n",
       "837       0.07  "
      ]
     },
     "execution_count": 21,
     "metadata": {},
     "output_type": "execute_result"
    }
   ],
   "source": [
    "df1[df1.isna().any(axis=1)]"
   ]
  },
  {
   "cell_type": "code",
   "execution_count": 22,
   "id": "f57dd155",
   "metadata": {},
   "outputs": [
    {
     "data": {
      "text/plain": [
       "array(['Mensal', 'Anual', 'deleted', 'Semestral', 'periodicidade', nan],\n",
       "      dtype=object)"
      ]
     },
     "execution_count": 22,
     "metadata": {},
     "output_type": "execute_result"
    }
   ],
   "source": [
    "df1['periodicidade'].unique()"
   ]
  },
  {
   "cell_type": "code",
   "execution_count": 23,
   "id": "cdcf49b6",
   "metadata": {},
   "outputs": [
    {
     "data": {
      "text/html": [
       "<div>\n",
       "<style scoped>\n",
       "    .dataframe tbody tr th:only-of-type {\n",
       "        vertical-align: middle;\n",
       "    }\n",
       "\n",
       "    .dataframe tbody tr th {\n",
       "        vertical-align: top;\n",
       "    }\n",
       "\n",
       "    .dataframe thead th {\n",
       "        text-align: right;\n",
       "    }\n",
       "</style>\n",
       "<table border=\"1\" class=\"dataframe\">\n",
       "  <thead>\n",
       "    <tr style=\"text-align: right;\">\n",
       "      <th></th>\n",
       "      <th>id</th>\n",
       "      <th>won_time</th>\n",
       "      <th>vendedor</th>\n",
       "      <th>mrr (receita recorrente)</th>\n",
       "      <th>nrr(receita não recorrente)</th>\n",
       "      <th>pipeline_id</th>\n",
       "      <th>plano</th>\n",
       "      <th>periodicidade</th>\n",
       "      <th>churn_rate</th>\n",
       "    </tr>\n",
       "  </thead>\n",
       "  <tbody>\n",
       "  </tbody>\n",
       "</table>\n",
       "</div>"
      ],
      "text/plain": [
       "Empty DataFrame\n",
       "Columns: [id, won_time, vendedor, mrr (receita recorrente), nrr(receita não recorrente), pipeline_id, plano, periodicidade, churn_rate]\n",
       "Index: []"
      ]
     },
     "execution_count": 23,
     "metadata": {},
     "output_type": "execute_result"
    }
   ],
   "source": [
    "df1[df1['pipeline_id'] == 'nan']"
   ]
  },
  {
   "cell_type": "code",
   "execution_count": 24,
   "id": "ca075ffb",
   "metadata": {},
   "outputs": [
    {
     "data": {
      "text/html": [
       "<div>\n",
       "<style scoped>\n",
       "    .dataframe tbody tr th:only-of-type {\n",
       "        vertical-align: middle;\n",
       "    }\n",
       "\n",
       "    .dataframe tbody tr th {\n",
       "        vertical-align: top;\n",
       "    }\n",
       "\n",
       "    .dataframe thead th {\n",
       "        text-align: right;\n",
       "    }\n",
       "</style>\n",
       "<table border=\"1\" class=\"dataframe\">\n",
       "  <thead>\n",
       "    <tr style=\"text-align: right;\">\n",
       "      <th></th>\n",
       "      <th>id</th>\n",
       "      <th>won_time</th>\n",
       "      <th>vendedor</th>\n",
       "      <th>mrr (receita recorrente)</th>\n",
       "      <th>nrr(receita não recorrente)</th>\n",
       "      <th>pipeline_id</th>\n",
       "      <th>plano</th>\n",
       "      <th>periodicidade</th>\n",
       "      <th>churn_rate</th>\n",
       "    </tr>\n",
       "  </thead>\n",
       "  <tbody>\n",
       "  </tbody>\n",
       "</table>\n",
       "</div>"
      ],
      "text/plain": [
       "Empty DataFrame\n",
       "Columns: [id, won_time, vendedor, mrr (receita recorrente), nrr(receita não recorrente), pipeline_id, plano, periodicidade, churn_rate]\n",
       "Index: []"
      ]
     },
     "execution_count": 24,
     "metadata": {},
     "output_type": "execute_result"
    }
   ],
   "source": [
    "df1[df1['periodicidade'] == 'nan']"
   ]
  },
  {
   "cell_type": "code",
   "execution_count": 25,
   "id": "0e1a219a",
   "metadata": {},
   "outputs": [],
   "source": [
    "df1['periodicidade'].fillna('Mensal', inplace=True)"
   ]
  },
  {
   "cell_type": "markdown",
   "id": "85053048",
   "metadata": {},
   "source": [
    "## 1.4 Filter Rows"
   ]
  },
  {
   "cell_type": "code",
   "execution_count": 26,
   "id": "fe2d8b6d",
   "metadata": {},
   "outputs": [
    {
     "name": "stdout",
     "output_type": "stream",
     "text": [
      "Total de linhas deletadas: 51\n"
     ]
    }
   ],
   "source": [
    "df_deleted = df1[df1.isin(['deleted', 'won_time', 'pipeline_id']).any(axis=1)]\n",
    "\n",
    "print(f\"Total de linhas deletadas: {df_deleted.shape[0]}\")"
   ]
  },
  {
   "cell_type": "code",
   "execution_count": 27,
   "id": "fcdc9ac4",
   "metadata": {},
   "outputs": [
    {
     "data": {
      "text/plain": [
       "0"
      ]
     },
     "execution_count": 27,
     "metadata": {},
     "output_type": "execute_result"
    }
   ],
   "source": [
    "df1.duplicated().sum()"
   ]
  },
  {
   "cell_type": "code",
   "execution_count": 28,
   "id": "15bd5cc4",
   "metadata": {},
   "outputs": [
    {
     "data": {
      "text/html": [
       "<div>\n",
       "<style scoped>\n",
       "    .dataframe tbody tr th:only-of-type {\n",
       "        vertical-align: middle;\n",
       "    }\n",
       "\n",
       "    .dataframe tbody tr th {\n",
       "        vertical-align: top;\n",
       "    }\n",
       "\n",
       "    .dataframe thead th {\n",
       "        text-align: right;\n",
       "    }\n",
       "</style>\n",
       "<table border=\"1\" class=\"dataframe\">\n",
       "  <thead>\n",
       "    <tr style=\"text-align: right;\">\n",
       "      <th></th>\n",
       "      <th>id</th>\n",
       "      <th>won_time</th>\n",
       "      <th>vendedor</th>\n",
       "      <th>mrr (receita recorrente)</th>\n",
       "      <th>nrr(receita não recorrente)</th>\n",
       "      <th>pipeline_id</th>\n",
       "      <th>plano</th>\n",
       "      <th>periodicidade</th>\n",
       "      <th>churn_rate</th>\n",
       "    </tr>\n",
       "  </thead>\n",
       "  <tbody>\n",
       "    <tr>\n",
       "      <th>15</th>\n",
       "      <td>19839</td>\n",
       "      <td>deleted</td>\n",
       "      <td>deleted</td>\n",
       "      <td>deleted</td>\n",
       "      <td>deleted</td>\n",
       "      <td>deleted</td>\n",
       "      <td>deleted</td>\n",
       "      <td>deleted</td>\n",
       "      <td>deleted</td>\n",
       "    </tr>\n",
       "    <tr>\n",
       "      <th>48</th>\n",
       "      <td>19830</td>\n",
       "      <td>deleted</td>\n",
       "      <td>deleted</td>\n",
       "      <td>deleted</td>\n",
       "      <td>deleted</td>\n",
       "      <td>deleted</td>\n",
       "      <td>deleted</td>\n",
       "      <td>deleted</td>\n",
       "      <td>deleted</td>\n",
       "    </tr>\n",
       "    <tr>\n",
       "      <th>49</th>\n",
       "      <td>19821</td>\n",
       "      <td>deleted</td>\n",
       "      <td>deleted</td>\n",
       "      <td>deleted</td>\n",
       "      <td>deleted</td>\n",
       "      <td>deleted</td>\n",
       "      <td>deleted</td>\n",
       "      <td>deleted</td>\n",
       "      <td>deleted</td>\n",
       "    </tr>\n",
       "    <tr>\n",
       "      <th>50</th>\n",
       "      <td>19812</td>\n",
       "      <td>deleted</td>\n",
       "      <td>deleted</td>\n",
       "      <td>deleted</td>\n",
       "      <td>deleted</td>\n",
       "      <td>deleted</td>\n",
       "      <td>deleted</td>\n",
       "      <td>deleted</td>\n",
       "      <td>deleted</td>\n",
       "    </tr>\n",
       "    <tr>\n",
       "      <th>78</th>\n",
       "      <td>19803</td>\n",
       "      <td>deleted</td>\n",
       "      <td>deleted</td>\n",
       "      <td>deleted</td>\n",
       "      <td>deleted</td>\n",
       "      <td>deleted</td>\n",
       "      <td>deleted</td>\n",
       "      <td>deleted</td>\n",
       "      <td>deleted</td>\n",
       "    </tr>\n",
       "  </tbody>\n",
       "</table>\n",
       "</div>"
      ],
      "text/plain": [
       "       id won_time vendedor mrr (receita recorrente)  \\\n",
       "15  19839  deleted  deleted                  deleted   \n",
       "48  19830  deleted  deleted                  deleted   \n",
       "49  19821  deleted  deleted                  deleted   \n",
       "50  19812  deleted  deleted                  deleted   \n",
       "78  19803  deleted  deleted                  deleted   \n",
       "\n",
       "   nrr(receita não recorrente) pipeline_id    plano periodicidade churn_rate  \n",
       "15                     deleted     deleted  deleted       deleted    deleted  \n",
       "48                     deleted     deleted  deleted       deleted    deleted  \n",
       "49                     deleted     deleted  deleted       deleted    deleted  \n",
       "50                     deleted     deleted  deleted       deleted    deleted  \n",
       "78                     deleted     deleted  deleted       deleted    deleted  "
      ]
     },
     "execution_count": 28,
     "metadata": {},
     "output_type": "execute_result"
    }
   ],
   "source": [
    "df_deleted.head(5)"
   ]
  },
  {
   "cell_type": "code",
   "execution_count": 29,
   "id": "217582fe",
   "metadata": {},
   "outputs": [
    {
     "data": {
      "text/plain": [
       "array(['Mensal', 'Anual', 'deleted', 'Semestral', 'periodicidade'],\n",
       "      dtype=object)"
      ]
     },
     "execution_count": 29,
     "metadata": {},
     "output_type": "execute_result"
    }
   ],
   "source": [
    "df1['periodicidade'].unique()"
   ]
  },
  {
   "cell_type": "code",
   "execution_count": 30,
   "id": "662ba731",
   "metadata": {},
   "outputs": [
    {
     "data": {
      "text/html": [
       "<div>\n",
       "<style scoped>\n",
       "    .dataframe tbody tr th:only-of-type {\n",
       "        vertical-align: middle;\n",
       "    }\n",
       "\n",
       "    .dataframe tbody tr th {\n",
       "        vertical-align: top;\n",
       "    }\n",
       "\n",
       "    .dataframe thead th {\n",
       "        text-align: right;\n",
       "    }\n",
       "</style>\n",
       "<table border=\"1\" class=\"dataframe\">\n",
       "  <thead>\n",
       "    <tr style=\"text-align: right;\">\n",
       "      <th></th>\n",
       "      <th>id</th>\n",
       "      <th>won_time</th>\n",
       "      <th>vendedor</th>\n",
       "      <th>mrr (receita recorrente)</th>\n",
       "      <th>nrr(receita não recorrente)</th>\n",
       "      <th>pipeline_id</th>\n",
       "      <th>plano</th>\n",
       "      <th>periodicidade</th>\n",
       "      <th>churn_rate</th>\n",
       "    </tr>\n",
       "  </thead>\n",
       "  <tbody>\n",
       "  </tbody>\n",
       "</table>\n",
       "</div>"
      ],
      "text/plain": [
       "Empty DataFrame\n",
       "Columns: [id, won_time, vendedor, mrr (receita recorrente), nrr(receita não recorrente), pipeline_id, plano, periodicidade, churn_rate]\n",
       "Index: []"
      ]
     },
     "execution_count": 30,
     "metadata": {},
     "output_type": "execute_result"
    }
   ],
   "source": [
    "df1[df1['periodicidade'] == 'nan']"
   ]
  },
  {
   "cell_type": "code",
   "execution_count": 31,
   "id": "0a4822d2",
   "metadata": {},
   "outputs": [
    {
     "name": "stdout",
     "output_type": "stream",
     "text": [
      "Total de linhas gerais: 1051\n",
      "Total de linhas pós filtro: 999\n"
     ]
    }
   ],
   "source": [
    "print(f\"Total de linhas gerais: {df1.shape[0]}\")\n",
    "\n",
    "df1 = df1[~df1.isin(['deleted', 'won_time']).any(axis=1)]\n",
    "\n",
    "df1 = df1[df1['plano'] != 'plano']\n",
    "\n",
    "df1 = df1.drop_duplicates(subset=['id'])\n",
    "\n",
    "print(f\"Total de linhas pós filtro: {df1.shape[0]}\")"
   ]
  },
  {
   "cell_type": "markdown",
   "id": "5bfcb9e3",
   "metadata": {},
   "source": [
    "## 1.5 Adjust Columns Names"
   ]
  },
  {
   "cell_type": "code",
   "execution_count": 32,
   "id": "a88fc226",
   "metadata": {},
   "outputs": [
    {
     "data": {
      "text/plain": [
       "Index(['id', 'won_time', 'vendedor', 'mrr (receita recorrente)',\n",
       "       'nrr(receita não recorrente)', 'pipeline_id', 'plano', 'periodicidade',\n",
       "       'churn_rate'],\n",
       "      dtype='object')"
      ]
     },
     "execution_count": 32,
     "metadata": {},
     "output_type": "execute_result"
    }
   ],
   "source": [
    "df1.columns"
   ]
  },
  {
   "cell_type": "code",
   "execution_count": 33,
   "id": "8b2cf22c",
   "metadata": {},
   "outputs": [],
   "source": [
    "df1.rename(columns={\n",
    "    'mrr (receita recorrente)': 'mrr_receita_recorrente',\n",
    "    'nrr(receita não recorrente)': 'nrr_receita_nao_recorrente'\n",
    "}, inplace=True)"
   ]
  },
  {
   "cell_type": "code",
   "execution_count": 34,
   "id": "496a9a69",
   "metadata": {},
   "outputs": [
    {
     "data": {
      "text/html": [
       "<div>\n",
       "<style scoped>\n",
       "    .dataframe tbody tr th:only-of-type {\n",
       "        vertical-align: middle;\n",
       "    }\n",
       "\n",
       "    .dataframe tbody tr th {\n",
       "        vertical-align: top;\n",
       "    }\n",
       "\n",
       "    .dataframe thead th {\n",
       "        text-align: right;\n",
       "    }\n",
       "</style>\n",
       "<table border=\"1\" class=\"dataframe\">\n",
       "  <thead>\n",
       "    <tr style=\"text-align: right;\">\n",
       "      <th></th>\n",
       "      <th>0</th>\n",
       "      <th>1</th>\n",
       "    </tr>\n",
       "  </thead>\n",
       "  <tbody>\n",
       "    <tr>\n",
       "      <th>id</th>\n",
       "      <td>704867</td>\n",
       "      <td>533495</td>\n",
       "    </tr>\n",
       "    <tr>\n",
       "      <th>won_time</th>\n",
       "      <td>2022-03-25</td>\n",
       "      <td>2022-06-21</td>\n",
       "    </tr>\n",
       "    <tr>\n",
       "      <th>vendedor</th>\n",
       "      <td>Igor Martins</td>\n",
       "      <td>Rafael Cunha</td>\n",
       "    </tr>\n",
       "    <tr>\n",
       "      <th>mrr_receita_recorrente</th>\n",
       "      <td>669</td>\n",
       "      <td>558</td>\n",
       "    </tr>\n",
       "    <tr>\n",
       "      <th>nrr_receita_nao_recorrente</th>\n",
       "      <td>242</td>\n",
       "      <td>352</td>\n",
       "    </tr>\n",
       "    <tr>\n",
       "      <th>pipeline_id</th>\n",
       "      <td>16</td>\n",
       "      <td>16</td>\n",
       "    </tr>\n",
       "    <tr>\n",
       "      <th>plano</th>\n",
       "      <td>Astrea Starter</td>\n",
       "      <td>Astrea Starter</td>\n",
       "    </tr>\n",
       "    <tr>\n",
       "      <th>periodicidade</th>\n",
       "      <td>Mensal</td>\n",
       "      <td>Mensal</td>\n",
       "    </tr>\n",
       "    <tr>\n",
       "      <th>churn_rate</th>\n",
       "      <td>0.07</td>\n",
       "      <td>0.11</td>\n",
       "    </tr>\n",
       "  </tbody>\n",
       "</table>\n",
       "</div>"
      ],
      "text/plain": [
       "                                         0               1\n",
       "id                                  704867          533495\n",
       "won_time                        2022-03-25      2022-06-21\n",
       "vendedor                      Igor Martins    Rafael Cunha\n",
       "mrr_receita_recorrente                 669             558\n",
       "nrr_receita_nao_recorrente             242             352\n",
       "pipeline_id                             16              16\n",
       "plano                       Astrea Starter  Astrea Starter\n",
       "periodicidade                       Mensal          Mensal\n",
       "churn_rate                            0.07            0.11"
      ]
     },
     "execution_count": 34,
     "metadata": {},
     "output_type": "execute_result"
    }
   ],
   "source": [
    "df1.head(2).T"
   ]
  },
  {
   "cell_type": "markdown",
   "id": "60a81110",
   "metadata": {},
   "source": [
    "## 1.6 Adjust Datatypes"
   ]
  },
  {
   "cell_type": "code",
   "execution_count": 35,
   "id": "6e56384c",
   "metadata": {},
   "outputs": [],
   "source": [
    "df1['id'] = df1['id'].astype(int)\n",
    "df1['won_time'] = pd.to_datetime(df1['won_time'], errors='coerce')\n",
    "df1['vendedor'] = df1['vendedor'].astype(str)\n",
    "df1['mrr_receita_recorrente'] = pd.to_numeric(df1['mrr_receita_recorrente'], errors='coerce')\n",
    "df1['nrr_receita_nao_recorrente'] = pd.to_numeric(df1['nrr_receita_nao_recorrente'], errors='coerce')\n",
    "df1['pipeline_id'] = df1['pipeline_id'].astype(int)\n",
    "df1['plano'] = df1['plano'].astype(str)\n",
    "df1['periodicidade'] = df1['periodicidade'].astype(str)\n",
    "df1['churn_rate'] = pd.to_numeric(df1['churn_rate'], errors='coerce')"
   ]
  },
  {
   "cell_type": "markdown",
   "id": "28b3b225",
   "metadata": {},
   "source": [
    "# 2. Descriptive Statistic"
   ]
  },
  {
   "cell_type": "code",
   "execution_count": 36,
   "id": "301adea4",
   "metadata": {},
   "outputs": [],
   "source": [
    "df2 = df1.copy()"
   ]
  },
  {
   "cell_type": "code",
   "execution_count": 37,
   "id": "95ede6d2",
   "metadata": {},
   "outputs": [
    {
     "data": {
      "text/html": [
       "<div>\n",
       "<style scoped>\n",
       "    .dataframe tbody tr th:only-of-type {\n",
       "        vertical-align: middle;\n",
       "    }\n",
       "\n",
       "    .dataframe tbody tr th {\n",
       "        vertical-align: top;\n",
       "    }\n",
       "\n",
       "    .dataframe thead th {\n",
       "        text-align: right;\n",
       "    }\n",
       "</style>\n",
       "<table border=\"1\" class=\"dataframe\">\n",
       "  <thead>\n",
       "    <tr style=\"text-align: right;\">\n",
       "      <th></th>\n",
       "      <th>0</th>\n",
       "      <th>1</th>\n",
       "    </tr>\n",
       "  </thead>\n",
       "  <tbody>\n",
       "    <tr>\n",
       "      <th>id</th>\n",
       "      <td>704867</td>\n",
       "      <td>533495</td>\n",
       "    </tr>\n",
       "    <tr>\n",
       "      <th>won_time</th>\n",
       "      <td>2022-03-25 00:00:00</td>\n",
       "      <td>2022-06-21 00:00:00</td>\n",
       "    </tr>\n",
       "    <tr>\n",
       "      <th>vendedor</th>\n",
       "      <td>Igor Martins</td>\n",
       "      <td>Rafael Cunha</td>\n",
       "    </tr>\n",
       "    <tr>\n",
       "      <th>mrr_receita_recorrente</th>\n",
       "      <td>669</td>\n",
       "      <td>558</td>\n",
       "    </tr>\n",
       "    <tr>\n",
       "      <th>nrr_receita_nao_recorrente</th>\n",
       "      <td>242</td>\n",
       "      <td>352</td>\n",
       "    </tr>\n",
       "    <tr>\n",
       "      <th>pipeline_id</th>\n",
       "      <td>16</td>\n",
       "      <td>16</td>\n",
       "    </tr>\n",
       "    <tr>\n",
       "      <th>plano</th>\n",
       "      <td>Astrea Starter</td>\n",
       "      <td>Astrea Starter</td>\n",
       "    </tr>\n",
       "    <tr>\n",
       "      <th>periodicidade</th>\n",
       "      <td>Mensal</td>\n",
       "      <td>Mensal</td>\n",
       "    </tr>\n",
       "    <tr>\n",
       "      <th>churn_rate</th>\n",
       "      <td>0.070</td>\n",
       "      <td>0.110</td>\n",
       "    </tr>\n",
       "  </tbody>\n",
       "</table>\n",
       "</div>"
      ],
      "text/plain": [
       "                                              0                    1\n",
       "id                                       704867               533495\n",
       "won_time                    2022-03-25 00:00:00  2022-06-21 00:00:00\n",
       "vendedor                           Igor Martins         Rafael Cunha\n",
       "mrr_receita_recorrente                      669                  558\n",
       "nrr_receita_nao_recorrente                  242                  352\n",
       "pipeline_id                                  16                   16\n",
       "plano                            Astrea Starter       Astrea Starter\n",
       "periodicidade                            Mensal               Mensal\n",
       "churn_rate                                0.070                0.110"
      ]
     },
     "execution_count": 37,
     "metadata": {},
     "output_type": "execute_result"
    }
   ],
   "source": [
    "df2.head(2).T"
   ]
  },
  {
   "cell_type": "markdown",
   "id": "0ce79f16",
   "metadata": {},
   "source": [
    "## 2.1 Data Dimension"
   ]
  },
  {
   "cell_type": "code",
   "execution_count": 38,
   "id": "7481139e",
   "metadata": {},
   "outputs": [
    {
     "name": "stdout",
     "output_type": "stream",
     "text": [
      "Number of Rows: 999\n",
      "Number of Columns: 9\n"
     ]
    }
   ],
   "source": [
    "print(f\"Number of Rows: {df2.shape[0]}\")\n",
    "print(f\"Number of Columns: {df2.shape[1]}\")"
   ]
  },
  {
   "cell_type": "code",
   "execution_count": 39,
   "id": "a2b24240",
   "metadata": {},
   "outputs": [
    {
     "name": "stdout",
     "output_type": "stream",
     "text": [
      "Dados Numericos\n",
      "Numero de Colunas: 5\n"
     ]
    }
   ],
   "source": [
    "num_attributes = get_numerical_attributes(df2)\n",
    "print('Dados Numericos')\n",
    "print(f\"Numero de Colunas: {num_attributes.shape[1]}\")"
   ]
  },
  {
   "cell_type": "code",
   "execution_count": 40,
   "id": "334d7485",
   "metadata": {},
   "outputs": [
    {
     "name": "stdout",
     "output_type": "stream",
     "text": [
      "Dados Categoricos\n",
      "Numero de Colunas: 3\n"
     ]
    }
   ],
   "source": [
    "cat_attributes = get_categorical_attributes(df2)\n",
    "print('Dados Categoricos')\n",
    "print(f\"Numero de Colunas: {cat_attributes.shape[1]}\")"
   ]
  },
  {
   "cell_type": "code",
   "execution_count": 41,
   "id": "a2ca5fea",
   "metadata": {},
   "outputs": [
    {
     "name": "stdout",
     "output_type": "stream",
     "text": [
      "Dados Temporais\n",
      "Numero de Colunas: 1\n"
     ]
    }
   ],
   "source": [
    "date_attributes = get_date_attributes(df2)\n",
    "print('Dados Temporais')\n",
    "print(f\"Numero de Colunas: {date_attributes.shape[1]}\")"
   ]
  },
  {
   "cell_type": "markdown",
   "id": "3ab3323c",
   "metadata": {},
   "source": [
    "## 2.2. Numerical Attributes Analysis"
   ]
  },
  {
   "cell_type": "markdown",
   "id": "07ac3b55",
   "metadata": {},
   "source": [
    "### 2.2.1. Informações Gerais"
   ]
  },
  {
   "cell_type": "code",
   "execution_count": 42,
   "id": "dc6cc8e7",
   "metadata": {},
   "outputs": [
    {
     "data": {
      "text/plain": [
       "Index(['id', 'mrr_receita_recorrente', 'nrr_receita_nao_recorrente',\n",
       "       'pipeline_id', 'churn_rate'],\n",
       "      dtype='object')"
      ]
     },
     "execution_count": 42,
     "metadata": {},
     "output_type": "execute_result"
    }
   ],
   "source": [
    "num_attributes.columns"
   ]
  },
  {
   "cell_type": "code",
   "execution_count": 43,
   "id": "e7a5bace",
   "metadata": {},
   "outputs": [
    {
     "data": {
      "text/html": [
       "<div>\n",
       "<style scoped>\n",
       "    .dataframe tbody tr th:only-of-type {\n",
       "        vertical-align: middle;\n",
       "    }\n",
       "\n",
       "    .dataframe tbody tr th {\n",
       "        vertical-align: top;\n",
       "    }\n",
       "\n",
       "    .dataframe thead th {\n",
       "        text-align: right;\n",
       "    }\n",
       "</style>\n",
       "<table border=\"1\" class=\"dataframe\">\n",
       "  <thead>\n",
       "    <tr style=\"text-align: right;\">\n",
       "      <th></th>\n",
       "      <th>attributes</th>\n",
       "      <th>nan (%)</th>\n",
       "      <th>min</th>\n",
       "      <th>max</th>\n",
       "      <th>range</th>\n",
       "      <th>mean</th>\n",
       "      <th>median</th>\n",
       "      <th>std</th>\n",
       "      <th>skew</th>\n",
       "      <th>kurtosis</th>\n",
       "    </tr>\n",
       "  </thead>\n",
       "  <tbody>\n",
       "    <tr>\n",
       "      <th>0</th>\n",
       "      <td>mrr_receita_recorrente</td>\n",
       "      <td>0.000</td>\n",
       "      <td>100.000</td>\n",
       "      <td>799.000</td>\n",
       "      <td>699.000</td>\n",
       "      <td>446.519</td>\n",
       "      <td>447.000</td>\n",
       "      <td>202.359</td>\n",
       "      <td>0.019</td>\n",
       "      <td>-1.211</td>\n",
       "    </tr>\n",
       "    <tr>\n",
       "      <th>1</th>\n",
       "      <td>nrr_receita_nao_recorrente</td>\n",
       "      <td>0.000</td>\n",
       "      <td>50.000</td>\n",
       "      <td>499.000</td>\n",
       "      <td>449.000</td>\n",
       "      <td>280.601</td>\n",
       "      <td>285.000</td>\n",
       "      <td>132.581</td>\n",
       "      <td>-0.062</td>\n",
       "      <td>-1.247</td>\n",
       "    </tr>\n",
       "    <tr>\n",
       "      <th>2</th>\n",
       "      <td>churn_rate</td>\n",
       "      <td>0.000</td>\n",
       "      <td>0.070</td>\n",
       "      <td>0.250</td>\n",
       "      <td>0.180</td>\n",
       "      <td>0.097</td>\n",
       "      <td>0.070</td>\n",
       "      <td>0.057</td>\n",
       "      <td>2.127</td>\n",
       "      <td>2.917</td>\n",
       "    </tr>\n",
       "  </tbody>\n",
       "</table>\n",
       "</div>"
      ],
      "text/plain": [
       "                   attributes  nan (%)     min     max   range    mean  \\\n",
       "0      mrr_receita_recorrente    0.000 100.000 799.000 699.000 446.519   \n",
       "1  nrr_receita_nao_recorrente    0.000  50.000 499.000 449.000 280.601   \n",
       "2                  churn_rate    0.000   0.070   0.250   0.180   0.097   \n",
       "\n",
       "   median     std   skew  kurtosis  \n",
       "0 447.000 202.359  0.019    -1.211  \n",
       "1 285.000 132.581 -0.062    -1.247  \n",
       "2   0.070   0.057  2.127     2.917  "
      ]
     },
     "execution_count": 43,
     "metadata": {},
     "output_type": "execute_result"
    }
   ],
   "source": [
    "num_cols = [\n",
    "        'id'\n",
    "        , 'pipeline_id'\n",
    "]\n",
    "\n",
    "get_descriptive_info(num_attributes.drop(columns=num_cols))"
   ]
  },
  {
   "cell_type": "markdown",
   "id": "b65c3bda",
   "metadata": {},
   "source": [
    "### 2.2.2. Analiase da coluna `mrr_receita_recorrente` \n",
    "\n",
    "#### Tipo de Dados e Valores Únicos\n",
    "- **Tipo:** Valores inteiros não negativos.\n",
    "- **Valores Únicos:** 540, indicando alta diversidade e pouca repetição.\n",
    "\n",
    "---\n",
    "\n",
    "#### Distribuição dos Dados\n",
    "\n",
    "**Histograma:**  \n",
    "- Concentração entre 200 e 400, com frequência decrescente conforme os valores aumentam.  \n",
    "- Valores acima de 600 são menos frequentes, e 800 aparece repetidamente (possível limite máximo ou categoria específica).\n",
    "\n",
    "**Gráfico de Densidade:**  \n",
    "- Pico de densidade entre 200 e 400, confirmando a maior frequência nesse intervalo.  \n",
    "- Densidade próxima de zero acima de 800, indicando raridade de valores extremos.\n",
    "\n",
    "---\n",
    "\n",
    "#### Insights e Observações\n",
    "\n",
    "- **Distribuição Assimétrica:** A maioria dos valores está na faixa baixa/média, com cauda longa à direita (valores altos são menos comuns).  \n",
    "- **Possíveis Outliers:** Valores como 800 podem representar clientes premium ou contratos especiais. Recomenda-se verificar a legitimidade desses registros.  \n",
    "- **Aplicação Prática:**  \n",
    "    - Clientes com MRR baixo (200–400) podem ser alvo de estratégias de upsell.  \n",
    "    - Clientes com MRR alto (600–800) merecem atenção para retenção.\n"
   ]
  },
  {
   "cell_type": "code",
   "execution_count": 44,
   "id": "e7be9cae",
   "metadata": {},
   "outputs": [
    {
     "name": "stdout",
     "output_type": "stream",
     "text": [
      "Tipo da coluna: int64\n",
      "Quantidade de Valores Únicos: 540\n",
      "5 primeiros Valores Únicos: [669 558 330 778 358]\n"
     ]
    }
   ],
   "source": [
    "print_column_unique_values_info(num_attributes, 'mrr_receita_recorrente')"
   ]
  },
  {
   "cell_type": "code",
   "execution_count": 45,
   "id": "032eb182",
   "metadata": {},
   "outputs": [
    {
     "data": {
      "image/png": "[encoded data removed]",
      "text/plain": [
       "<Figure size 1000x400 with 3 Axes>"
      ]
     },
     "metadata": {},
     "output_type": "display_data"
    }
   ],
   "source": [
    "plot_numerical_column_distrubtion(num_attributes, 'mrr_receita_recorrente')"
   ]
  },
  {
   "cell_type": "markdown",
   "id": "ed2993ac",
   "metadata": {},
   "source": [
    "### 2.2.3. Analiase da coluna `nrr_receita_nao_recorrente` \n",
    "\n",
    "#### Tipo de Dados e Valores Únicos\n",
    "\n",
    "- **Tipo:** Valores inteiros não negativos.\n",
    "- **Valores Únicos:** 389, indicando diversidade moderada, com menos repetições que a coluna `mrr_receita_recorrente`.\n",
    "\n",
    "---\n",
    "\n",
    "#### Distribuição dos Dados\n",
    "\n",
    "**Boxplot:**  \n",
    "- Valores distribuídos entre 0 e 500, com possíveis outliers acima de 500.  \n",
    "- Concentração principal na faixa 0–300, onde a maioria dos dados está agrupada.\n",
    "\n",
    "**Gráfico de Densidade:**  \n",
    "- Pico de densidade próximo a 0.002 na faixa inicial (0–200), com declínio suave até 600.  \n",
    "- Valores acima de 500 têm densidade próxima de zero, reforçando sua raridade.\n",
    "\n",
    "---\n",
    "\n",
    "#### Insights e Observações\n",
    "\n",
    "- **Distribuição Assimétrica à Direita:** A maioria dos valores é baixa (ex.: 67–352), com cauda longa para valores mais altos (até 600).  \n",
    "- **Possíveis Outliers:** Valores acima de 500 são incomuns e merecem investigação (ex.: erros de registro ou transações atípicas).  \n",
    "- **Variação nos Valores Baixos:** A presença de valores como 67 e 114 indica heterogeneidade mesmo na faixa inferior, possivelmente refletindo diferentes perfis de clientes ou transações pontuais."
   ]
  },
  {
   "cell_type": "code",
   "execution_count": 46,
   "id": "86879f14",
   "metadata": {},
   "outputs": [
    {
     "name": "stdout",
     "output_type": "stream",
     "text": [
      "Tipo da coluna: int64\n",
      "Quantidade de Valores Únicos: 389\n",
      "5 primeiros Valores Únicos: [242 352  67 328 114]\n"
     ]
    }
   ],
   "source": [
    "print_column_unique_values_info(num_attributes, 'nrr_receita_nao_recorrente')"
   ]
  },
  {
   "cell_type": "code",
   "execution_count": 47,
   "id": "8a267d87",
   "metadata": {},
   "outputs": [
    {
     "data": {
      "image/png": "[encoded data removed]",
      "text/plain": [
       "<Figure size 1000x400 with 3 Axes>"
      ]
     },
     "metadata": {},
     "output_type": "display_data"
    }
   ],
   "source": [
    "plot_numerical_column_distrubtion(num_attributes, 'nrr_receita_nao_recorrente')"
   ]
  },
  {
   "cell_type": "markdown",
   "id": "cb00de94",
   "metadata": {},
   "source": [
    "### 2.2.4. Analiase da coluna `churn_rate`\n",
    "\n",
    "#### Tipo de Dados e Valores Únicos\n",
    "\n",
    "- **Tipo:** Valores decimais.  \n",
    "- **Valores Únicos:** 4, indicando baixa diversidade e possivelmente categorização prévia ou agrupamento intencional.\n",
    "\n",
    "---\n",
    "\n",
    "#### Distribuição dos Dados\n",
    "\n",
    "**Boxplot:**  \n",
    "- Valores variam de 0.075 a 0.25, com concentração principal entre 0.10 e 0.15.  \n",
    "- Possíveis outliers acima de 0.25 (se houver registros nessa faixa).\n",
    "\n",
    "**Histograma e Gráfico de Densidade:**  \n",
    "- Distribuição concentrada em 0.07–0.25, com densidade máxima entre 0.10 e 0.15.  \n",
    "- Menor frequência em extremos (ex.: abaixo de 0.05 ou acima de 0.25).\n",
    "\n",
    "---\n",
    "\n",
    "#### Insights e Observações\n",
    "\n",
    "- **Categorização Suspeita:** Apenas 4 valores únicos sugerem que os dados podem estar agrupados em faixas (ex.: baixo, médio, alto) ou que há limitações na coleta.  \n",
    "- **Valores Críticos:** A taxa de 0.25 (25%) destaca-se como um ponto crítico, possivelmente ligado a segmentos específicos (ex.: clientes insatisfeitos ou planos com alta rotatividade).  \n",
    "- **Baixa Granularidade:** A falta de valores intermediários dificulta análises detalhadas (ex.: diferenças entre 0.11 e 0.14 podem ser mascaradas)."
   ]
  },
  {
   "cell_type": "code",
   "execution_count": 48,
   "id": "a5b3a903",
   "metadata": {},
   "outputs": [
    {
     "name": "stdout",
     "output_type": "stream",
     "text": [
      "Tipo da coluna: float64\n",
      "Quantidade de Valores Únicos: 4\n",
      "5 primeiros Valores Únicos: [0.07 0.11 0.25 0.14]\n"
     ]
    }
   ],
   "source": [
    "print_column_unique_values_info(num_attributes, 'churn_rate')"
   ]
  },
  {
   "cell_type": "code",
   "execution_count": 49,
   "id": "1e6e50ae",
   "metadata": {},
   "outputs": [
    {
     "data": {
      "image/png": "[encoded data removed]",
      "text/plain": [
       "<Figure size 1000x400 with 3 Axes>"
      ]
     },
     "metadata": {},
     "output_type": "display_data"
    }
   ],
   "source": [
    "plot_numerical_column_distrubtion(num_attributes, 'churn_rate')"
   ]
  },
  {
   "cell_type": "markdown",
   "id": "9ccb56cd",
   "metadata": {},
   "source": [
    "## 2.3. Categorical Attributes"
   ]
  },
  {
   "cell_type": "code",
   "execution_count": 50,
   "id": "0ab1adcb",
   "metadata": {},
   "outputs": [
    {
     "data": {
      "text/plain": [
       "Index(['vendedor', 'plano', 'periodicidade'], dtype='object')"
      ]
     },
     "execution_count": 50,
     "metadata": {},
     "output_type": "execute_result"
    }
   ],
   "source": [
    "cat_attributes.columns"
   ]
  },
  {
   "cell_type": "code",
   "execution_count": 51,
   "id": "3f88824d",
   "metadata": {},
   "outputs": [
    {
     "data": {
      "text/html": [
       "<div>\n",
       "<style scoped>\n",
       "    .dataframe tbody tr th:only-of-type {\n",
       "        vertical-align: middle;\n",
       "    }\n",
       "\n",
       "    .dataframe tbody tr th {\n",
       "        vertical-align: top;\n",
       "    }\n",
       "\n",
       "    .dataframe thead th {\n",
       "        text-align: right;\n",
       "    }\n",
       "</style>\n",
       "<table border=\"1\" class=\"dataframe\">\n",
       "  <thead>\n",
       "    <tr style=\"text-align: right;\">\n",
       "      <th></th>\n",
       "      <th>attributes</th>\n",
       "      <th>nan (%)</th>\n",
       "      <th>dtype</th>\n",
       "      <th>unique</th>\n",
       "      <th>mode</th>\n",
       "      <th>mode_freq</th>\n",
       "    </tr>\n",
       "  </thead>\n",
       "  <tbody>\n",
       "    <tr>\n",
       "      <th>2</th>\n",
       "      <td>periodicidade</td>\n",
       "      <td>0.000</td>\n",
       "      <td>object</td>\n",
       "      <td>3</td>\n",
       "      <td>Mensal</td>\n",
       "      <td>845</td>\n",
       "    </tr>\n",
       "    <tr>\n",
       "      <th>0</th>\n",
       "      <td>vendedor</td>\n",
       "      <td>0.000</td>\n",
       "      <td>object</td>\n",
       "      <td>5</td>\n",
       "      <td>Igor Martins</td>\n",
       "      <td>639</td>\n",
       "    </tr>\n",
       "    <tr>\n",
       "      <th>1</th>\n",
       "      <td>plano</td>\n",
       "      <td>0.000</td>\n",
       "      <td>object</td>\n",
       "      <td>6</td>\n",
       "      <td>Astrea Starter</td>\n",
       "      <td>696</td>\n",
       "    </tr>\n",
       "  </tbody>\n",
       "</table>\n",
       "</div>"
      ],
      "text/plain": [
       "      attributes nan (%)   dtype unique            mode mode_freq\n",
       "2  periodicidade   0.000  object      3          Mensal       845\n",
       "0       vendedor   0.000  object      5    Igor Martins       639\n",
       "1          plano   0.000  object      6  Astrea Starter       696"
      ]
     },
     "execution_count": 51,
     "metadata": {},
     "output_type": "execute_result"
    }
   ],
   "source": [
    "get_categorical_info(cat_attributes)"
   ]
  },
  {
   "cell_type": "markdown",
   "id": "53423778",
   "metadata": {},
   "source": [
    "### 2.3.1 Analise da coluna `periodicidade`\n",
    "\n",
    "\n",
    "#### Distribuição das Categorias\n",
    "\n",
    "---\n",
    "\n",
    "- **Total de Valores Únicos:** 3 (`Mensal`, `Anual`, `Semestral`).\n",
    "\n",
    "**Frequências:**  \n",
    "- `Mensal`: 845 ocorrências (84.5% do total, assumindo 999 registros).  \n",
    "- `Anual`: 144 ocorrências (14.4%).  \n",
    "- `Semestral`: 10 ocorrências (1%).\n",
    "\n",
    "**Dominância:**  \n",
    "- A categoria `Mensal` é esmagadoramente predominante, seguida por `Anual` e `Semestral` com participação marginal.\n",
    "\n",
    "---\n",
    "\n",
    "#### Princípio de Pareto (80/20)\n",
    "\n",
    "- **Aplicação:** Apenas `Mensal` (84.5%) e `Anual` (14.4%) representam 98.9% dos dados, enquanto `Semestral` contribui com apenas 1%.  \n",
    "- **Implicação:** Esforços estratégicos devem priorizar as categorias `Mensal` e `Anual`, que são críticas para a maioria dos casos.\n",
    "\n",
    "---\n",
    "\n",
    "#### Insights e Observações\n",
    "\n",
    "- **Baixa Representatividade de `Semestral`:**  \n",
    "    Com apenas 10 registros, essa categoria pode ser insignificante estatisticamente ou representar casos específicos (ex.: contratos sazonais ou nichos).  \n",
    "    Recomenda-se validar se esses registros são legítimos ou se há erros de categorização.\n",
    "\n",
    "- **Ausência de Outras Categorias:**  \n",
    "    Não há registros de outras periodicidades (ex.: trimestral, quinzenal), o que pode limitar análises mais detalhadas."
   ]
  },
  {
   "cell_type": "code",
   "execution_count": 52,
   "id": "dd319d04",
   "metadata": {},
   "outputs": [
    {
     "name": "stdout",
     "output_type": "stream",
     "text": [
      "=-=-=-=-=-=-=-=-=-=-=-=-=-=-=-=-=-=-=-=-=-=-=-=-=-=-=-=-=-=-=-=-=-=-=-\n",
      "Top 15 mais frequentes em \"periodicidade\"\n",
      "=-=-=-=-=-=-=-=-=-=-=-=-=-=-=-=-=-=-=-=-=-=-=-=-=-=-=-=-=-=-=-=-=-=-=-\n",
      "periodicidade\n",
      "Mensal       845\n",
      "Anual        144\n",
      "Semestral     10\n",
      "Name: count, dtype: int64\n",
      "=-=-=-=-=-=-=-=-=-=-=-=-=-=-=-=-=-=-=-=-=-=-=-=-=-=-=-=-=-=-=-=-=-=-=-\n",
      "Total Unique: 3\n"
     ]
    },
    {
     "data": {
      "text/plain": [
       "array(['Mensal', 'Anual', 'Semestral'], dtype=object)"
      ]
     },
     "execution_count": 52,
     "metadata": {},
     "output_type": "execute_result"
    }
   ],
   "source": [
    "get_top_values(cat_attributes, 'periodicidade')"
   ]
  },
  {
   "cell_type": "code",
   "execution_count": 53,
   "id": "296543c8",
   "metadata": {},
   "outputs": [
    {
     "data": {
      "image/png": "[encoded data removed]",
      "text/plain": [
       "<Figure size 1000x400 with 3 Axes>"
      ]
     },
     "metadata": {},
     "output_type": "display_data"
    }
   ],
   "source": [
    "plot_categorical_eda(cat_attributes, 'periodicidade')"
   ]
  },
  {
   "cell_type": "markdown",
   "id": "59d42863",
   "metadata": {},
   "source": [
    "### 2.3.2 Analise da coluna `vendedor`\n",
    "\n",
    "#### Distribuição das Categorias\n",
    "\n",
    "- **Total de Valores Únicos:** 5 vendedores.\n",
    "\n",
    "**Frequências:**  \n",
    "- Igor Martins: 639 ocorrências (~63.9% do total).  \n",
    "- Rafael Cunha: 126 (~12.6%).  \n",
    "- Fernanda Dias: 115 (~11.5%).  \n",
    "- Bruna Lopes: 103 (~10.3%).  \n",
    "- Larissa Melo: 16 (~1.6%).\n",
    "\n",
    "**Dominância:**  \n",
    "- Igor Martins concentra mais de 60% das vendas, enquanto os demais vendedores têm participação significativamente menor.\n",
    "\n",
    "---\n",
    "\n",
    "#### Princípio de Pareto (80/20)\n",
    "\n",
    "- **Aplicação:** Igor Martins, Rafael Cunha e Fernanda Dias (totalizando ~88% das vendas) representam a grande maioria dos registros, seguindo o padrão 80/20.  \n",
    "- **Implicação:** Esses três vendedores são críticos para o desempenho geral, enquanto Bruna Lopes e Larissa Melo têm contribuição marginal.\n",
    "\n",
    "---\n",
    "\n",
    "#### Insights e Observações\n",
    "\n",
    "- **Desequilíbrio Significativo:**  \n",
    "    Igor Martins é claramente o vendedor-chave, possivelmente responsável por clientes estratégicos ou com maior volume de transações.  \n",
    "    A baixa frequência de Larissa Melo (1.6%) sugere que ela pode ser nova na equipe, estar alocada em um nicho específico ou enfrentar desafios de desempenho.\n",
    "\n",
    "- **Equipe Enxuta:**  \n",
    "    Apenas 5 vendedores indicam uma equipe pequena ou dados restritos a um subset específico (ex.: regional).\n",
    "\n",
    "- **Ausência de Outliers Negativos:**  \n",
    "    Não há registros com valores inconsistentes (ex.: nomes repetidos com grafia errada), indicando boa consistência nos dados.\n"
   ]
  },
  {
   "cell_type": "code",
   "execution_count": 54,
   "id": "6c07ae65",
   "metadata": {},
   "outputs": [
    {
     "name": "stdout",
     "output_type": "stream",
     "text": [
      "=-=-=-=-=-=-=-=-=-=-=-=-=-=-=-=-=-=-=-=-=-=-=-=-=-=-=-=-=-=-=-=-=-=-=-\n",
      "Top 15 mais frequentes em \"vendedor\"\n",
      "=-=-=-=-=-=-=-=-=-=-=-=-=-=-=-=-=-=-=-=-=-=-=-=-=-=-=-=-=-=-=-=-=-=-=-\n",
      "vendedor\n",
      "Igor Martins     639\n",
      "Rafael Cunha     126\n",
      "Fernanda Dias    115\n",
      "Bruna Lopes      103\n",
      "Larissa Melo      16\n",
      "Name: count, dtype: int64\n",
      "=-=-=-=-=-=-=-=-=-=-=-=-=-=-=-=-=-=-=-=-=-=-=-=-=-=-=-=-=-=-=-=-=-=-=-\n",
      "Total Unique: 5\n"
     ]
    },
    {
     "data": {
      "text/plain": [
       "array(['Igor Martins', 'Rafael Cunha', 'Fernanda Dias', 'Bruna Lopes',\n",
       "       'Larissa Melo'], dtype=object)"
      ]
     },
     "execution_count": 54,
     "metadata": {},
     "output_type": "execute_result"
    }
   ],
   "source": [
    "get_top_values(cat_attributes, 'vendedor')"
   ]
  },
  {
   "cell_type": "code",
   "execution_count": 55,
   "id": "769682ab",
   "metadata": {},
   "outputs": [
    {
     "data": {
      "image/png": "[encoded data removed]",
      "text/plain": [
       "<Figure size 1000x400 with 3 Axes>"
      ]
     },
     "metadata": {},
     "output_type": "display_data"
    }
   ],
   "source": [
    "plot_categorical_eda(cat_attributes, 'vendedor')"
   ]
  },
  {
   "cell_type": "markdown",
   "id": "f356673b",
   "metadata": {},
   "source": [
    "### 2.3.3 Analise da coluna `plano`\n",
    "\n",
    "#### Distribuição das Categorias (`plano`)\n",
    "\n",
    "---\n",
    "\n",
    "- **Total de Valores Únicos:** 6 planos.\n",
    "\n",
    "**Frequências:**  \n",
    "- Astrea Starter: 696 ocorrências (69.6% do total).  \n",
    "- Astrea Pro: 196 (19.6%).  \n",
    "- Up: 59 (5.9%).  \n",
    "- Smart: 29 (2.9%).  \n",
    "- Company: 15 (1.5%).  \n",
    "- Vip: 4 (0.4%).\n",
    "\n",
    "**Dominância:**  \n",
    "- Astrea Starter e Astrea Pro representam 89.2% dos registros, indicando foco da base de clientes em planos básicos e intermediários.\n",
    "\n",
    "---\n",
    "\n",
    "#### Princípio de Pareto (80/20)\n",
    "\n",
    "- **Aplicação:** Os dois primeiros planos (Astrea Starter e Astrea Pro) concentram quase 90% das ocorrências, alinhando-se ao princípio de que poucas categorias geram a maioria dos resultados.  \n",
    "- **Implicação:** Esses planos são estratégicos para receita e retenção de clientes.\n",
    "\n",
    "---\n",
    "\n",
    "#### Insights e Observações\n",
    "\n",
    "- **Hegemonia do Astrea Starter:**  \n",
    "    Provavelmente é o plano de entrada, com preço acessível ou funcionalidades essenciais, atraindo a maioria dos clientes.\n",
    "\n",
    "- **Potencial de Upsell:**  \n",
    "    A diferença entre Astrea Starter (69.6%) e Astrea Pro (19.6%) sugere oportunidade para migração de clientes para o plano premium.\n",
    "\n",
    "- **Planos de Nicho:**  \n",
    "    Planos como Vip (0.4%) e Company (1.5%) podem ser direcionados a clientes específicos (ex.: corporativos ou high-end), mas têm participação insignificante.\n",
    "\n",
    "- **Possíveis Inconsistências:**  \n",
    "    A presença de Up (5.9%) e Smart (2.9%) sem contexto claro sugere a necessidade de validar se são planos ativos ou resquícios de categorias antigas.\n"
   ]
  },
  {
   "cell_type": "code",
   "execution_count": 56,
   "id": "db40ac92",
   "metadata": {},
   "outputs": [
    {
     "name": "stdout",
     "output_type": "stream",
     "text": [
      "=-=-=-=-=-=-=-=-=-=-=-=-=-=-=-=-=-=-=-=-=-=-=-=-=-=-=-=-=-=-=-=-=-=-=-\n",
      "Top 15 mais frequentes em \"plano\"\n",
      "=-=-=-=-=-=-=-=-=-=-=-=-=-=-=-=-=-=-=-=-=-=-=-=-=-=-=-=-=-=-=-=-=-=-=-\n",
      "plano\n",
      "Astrea Starter    696\n",
      "Astrea Pro        196\n",
      "Up                 59\n",
      "Smart              29\n",
      "Company            15\n",
      "Vip                 4\n",
      "Name: count, dtype: int64\n",
      "=-=-=-=-=-=-=-=-=-=-=-=-=-=-=-=-=-=-=-=-=-=-=-=-=-=-=-=-=-=-=-=-=-=-=-\n",
      "Total Unique: 6\n"
     ]
    },
    {
     "data": {
      "text/plain": [
       "array(['Astrea Starter', 'Astrea Pro', 'Up', 'Smart', 'Company', 'Vip'],\n",
       "      dtype=object)"
      ]
     },
     "execution_count": 56,
     "metadata": {},
     "output_type": "execute_result"
    }
   ],
   "source": [
    "get_top_values(cat_attributes, 'plano')"
   ]
  },
  {
   "cell_type": "code",
   "execution_count": 57,
   "id": "f19a1fad",
   "metadata": {},
   "outputs": [
    {
     "data": {
      "image/png": "[encoded data removed]",
      "text/plain": [
       "<Figure size 1000x400 with 3 Axes>"
      ]
     },
     "metadata": {},
     "output_type": "display_data"
    }
   ],
   "source": [
    "plot_categorical_eda(cat_attributes, 'plano')"
   ]
  },
  {
   "cell_type": "markdown",
   "id": "0abdc957",
   "metadata": {},
   "source": [
    "## 2.4. Date Attributes"
   ]
  },
  {
   "cell_type": "code",
   "execution_count": 58,
   "id": "485d61de",
   "metadata": {},
   "outputs": [
    {
     "data": {
      "text/plain": [
       "Index(['won_time'], dtype='object')"
      ]
     },
     "execution_count": 58,
     "metadata": {},
     "output_type": "execute_result"
    }
   ],
   "source": [
    "date_attributes.columns"
   ]
  },
  {
   "cell_type": "markdown",
   "id": "dec8fde1",
   "metadata": {},
   "source": [
    "### 2.4.1 Analise de colunas `won_time`\n",
    "\n",
    "#### Contagem Diária de `won_time`\n",
    "\n",
    "- Observa-se uma forte concentração de registros entre janeiro e agosto de 2022, com muitos dias tendo entre 5 e 15 registros.\n",
    "- Depois de setembro de 2022, a frequência cai drasticamente, praticamente zerando nos meses seguintes.\n",
    "- Isso sugere:\n",
    "    - Ou o encerramento de operações,\n",
    "    - Ou falha/inatividade no registro de novos dados após setembro de 2022,\n",
    "    - Ou uma limitação do conjunto de dados (ex.: recorte temporal aplicado).\n",
    "\n",
    "---\n",
    "\n",
    "#### Frequência Mensal de `won_time`\n",
    "\n",
    "- Os meses de **janeiro a agosto de 2022** têm os maiores volumes, com pico notável em janeiro, abril e maio.\n",
    "- A partir de setembro de 2022, a frequência mensal desaba, permanecendo muito baixa até agosto de 2023.\n",
    "- Essa queda brusca reforça a necessidade de verificar se há falha de ingestão, mudanças no processo de negócio ou perda de registros.\n",
    "\n",
    "---\n",
    "\n",
    "#### Distribuição Diária de `won_time` (Boxplot)\n",
    "\n",
    "- O boxplot mostra a distribuição de registros por dia do mês (1–31).\n",
    "- Há uma boa dispersão, com registros presentes em praticamente todos os dias, mas:\n",
    "    - Dias no início e meio do mês (1–15) apresentam ligeiramente mais registros.\n",
    "    - Existem alguns outliers, indicando dias atípicos com volumes muito altos (acima de 10–12).\n",
    "    - A mediana diária varia de 3 a 6, mostrando certa estabilidade, mas não perfeitamente uniforme.\n",
    "\n",
    "---"
   ]
  },
  {
   "cell_type": "code",
   "execution_count": 59,
   "id": "97fe240e",
   "metadata": {},
   "outputs": [
    {
     "data": {
      "image/png": "[encoded data removed]",
      "text/plain": [
       "<Figure size 1500x800 with 3 Axes>"
      ]
     },
     "metadata": {},
     "output_type": "display_data"
    }
   ],
   "source": [
    "plot_temporal_column_distribution(date_attributes, 'won_time')"
   ]
  },
  {
   "cell_type": "markdown",
   "id": "b710acd2",
   "metadata": {},
   "source": [
    "# 3.0 Feature Engineering"
   ]
  },
  {
   "cell_type": "code",
   "execution_count": 60,
   "id": "bd37eb08",
   "metadata": {},
   "outputs": [],
   "source": [
    "df3 = df2.copy()"
   ]
  },
  {
   "cell_type": "code",
   "execution_count": 61,
   "id": "e296e0d3",
   "metadata": {},
   "outputs": [
    {
     "name": "stdout",
     "output_type": "stream",
     "text": [
      "Total de linhas: 999\n",
      "Total de colunas: 9\n"
     ]
    }
   ],
   "source": [
    "print(f\"Total de linhas: {df3.shape[0]}\")\n",
    "print(f\"Total de colunas: {df3.shape[1]}\")"
   ]
  },
  {
   "cell_type": "code",
   "execution_count": 62,
   "id": "e72182ef",
   "metadata": {},
   "outputs": [
    {
     "data": {
      "text/html": [
       "<div>\n",
       "<style scoped>\n",
       "    .dataframe tbody tr th:only-of-type {\n",
       "        vertical-align: middle;\n",
       "    }\n",
       "\n",
       "    .dataframe tbody tr th {\n",
       "        vertical-align: top;\n",
       "    }\n",
       "\n",
       "    .dataframe thead th {\n",
       "        text-align: right;\n",
       "    }\n",
       "</style>\n",
       "<table border=\"1\" class=\"dataframe\">\n",
       "  <thead>\n",
       "    <tr style=\"text-align: right;\">\n",
       "      <th></th>\n",
       "      <th>id</th>\n",
       "      <th>won_time</th>\n",
       "      <th>vendedor</th>\n",
       "      <th>mrr_receita_recorrente</th>\n",
       "      <th>nrr_receita_nao_recorrente</th>\n",
       "      <th>pipeline_id</th>\n",
       "      <th>plano</th>\n",
       "      <th>periodicidade</th>\n",
       "      <th>churn_rate</th>\n",
       "    </tr>\n",
       "  </thead>\n",
       "  <tbody>\n",
       "    <tr>\n",
       "      <th>0</th>\n",
       "      <td>704867</td>\n",
       "      <td>2022-03-25</td>\n",
       "      <td>Igor Martins</td>\n",
       "      <td>669</td>\n",
       "      <td>242</td>\n",
       "      <td>16</td>\n",
       "      <td>Astrea Starter</td>\n",
       "      <td>Mensal</td>\n",
       "      <td>0.070</td>\n",
       "    </tr>\n",
       "    <tr>\n",
       "      <th>1</th>\n",
       "      <td>533495</td>\n",
       "      <td>2022-06-21</td>\n",
       "      <td>Rafael Cunha</td>\n",
       "      <td>558</td>\n",
       "      <td>352</td>\n",
       "      <td>16</td>\n",
       "      <td>Astrea Starter</td>\n",
       "      <td>Mensal</td>\n",
       "      <td>0.110</td>\n",
       "    </tr>\n",
       "  </tbody>\n",
       "</table>\n",
       "</div>"
      ],
      "text/plain": [
       "       id   won_time      vendedor  mrr_receita_recorrente  \\\n",
       "0  704867 2022-03-25  Igor Martins                     669   \n",
       "1  533495 2022-06-21  Rafael Cunha                     558   \n",
       "\n",
       "   nrr_receita_nao_recorrente  pipeline_id           plano periodicidade  \\\n",
       "0                         242           16  Astrea Starter        Mensal   \n",
       "1                         352           16  Astrea Starter        Mensal   \n",
       "\n",
       "   churn_rate  \n",
       "0       0.070  \n",
       "1       0.110  "
      ]
     },
     "execution_count": 62,
     "metadata": {},
     "output_type": "execute_result"
    }
   ],
   "source": [
    "df3.head(2)"
   ]
  },
  {
   "cell_type": "markdown",
   "id": "5a060bb2",
   "metadata": {},
   "source": [
    "## 3.1 Feature Temporais"
   ]
  },
  {
   "cell_type": "code",
   "execution_count": 63,
   "id": "1dd1276a",
   "metadata": {},
   "outputs": [],
   "source": [
    "df3['won_time'] = pd.to_datetime(df3['won_time'])\n",
    "\n",
    "df3['ano'] = df3['won_time'].dt.year\n",
    "df3['mes'] = df3['won_time'].dt.month\n",
    "df3['dia'] = df3['won_time'].dt.day\n",
    "\n",
    "df3['ano_mes'] = df3['won_time'].dt.to_period('M').dt.to_timestamp()\n",
    "\n",
    "df3['dia_da_semana'] = df3['won_time'].dt.dayofweek \n",
    "df3['semana_do_ano'] = df3['won_time'].dt.isocalendar().week\n",
    "df3['nome_mes'] = df3['won_time'].dt.month_name()\n",
    "df3['nome_dia_semana'] = df3['won_time'].dt.day_name()\n",
    "df3['eh_final_de_semana'] = df3['dia_da_semana'] >= 5"
   ]
  },
  {
   "cell_type": "markdown",
   "id": "ee8cb0ca",
   "metadata": {},
   "source": [
    "## 3.2 Feature Proporções e Somatorios"
   ]
  },
  {
   "cell_type": "code",
   "execution_count": 64,
   "id": "b2b21875",
   "metadata": {},
   "outputs": [],
   "source": [
    "df3['receita_total'] = df3['mrr_receita_recorrente'] + df3['nrr_receita_nao_recorrente']\n",
    "df3['proporcao_mrr_nrr'] = df3['mrr_receita_recorrente'] / df3['receita_total'].replace(0, np.nan)"
   ]
  },
  {
   "cell_type": "markdown",
   "id": "c0ad9a56",
   "metadata": {},
   "source": [
    "## 3.3 Feature Flags"
   ]
  },
  {
   "cell_type": "code",
   "execution_count": 65,
   "id": "e8abac3a",
   "metadata": {},
   "outputs": [],
   "source": [
    "df3['mrr_categoria'] = pd.qcut(df3['mrr_receita_recorrente'], q=3, labels=['baixo', 'medio', 'alto'])"
   ]
  },
  {
   "cell_type": "markdown",
   "id": "83ce5f38",
   "metadata": {},
   "source": [
    "## 3.4 Feature Churn Alto"
   ]
  },
  {
   "cell_type": "code",
   "execution_count": 66,
   "id": "c62b3278",
   "metadata": {},
   "outputs": [],
   "source": [
    "df3['churn_alto'] = df3['churn_rate'] > 0.1"
   ]
  },
  {
   "cell_type": "markdown",
   "id": "f54256bc",
   "metadata": {},
   "source": [
    "## 3.5 Feature Quantidade"
   ]
  },
  {
   "cell_type": "code",
   "execution_count": 67,
   "id": "ee7c768c",
   "metadata": {},
   "outputs": [],
   "source": [
    "df3['qtd_vendas_totais'] = df3.groupby('vendedor')['id'].transform('count')\n",
    "df3['qtd_vendas_ano'] = df3.groupby(['vendedor', df3['won_time'].dt.to_period('Y')])['id'].transform('count')\n",
    "df3['qtd_vendas_mensais'] = df3.groupby(['vendedor', df3['won_time'].dt.to_period('M')])['id'].transform('count')\n",
    "df3['qtd_vendas_semanal'] = df3.groupby(['vendedor', df3['won_time'].dt.to_period('W')])['id'].transform('count')\n",
    "\n",
    "\n",
    "df3['qtd_tipos_planos_mes'] = df3.groupby(['vendedor', df3['won_time'].dt.to_period('M')])['plano'].transform('nunique')\n",
    "df3['qtd_tipos_planos_ano'] = df3.groupby(['vendedor', df3['won_time'].dt.to_period('Y')])['plano'].transform('nunique')\n",
    "df3['qtd_tipos_planos_vendidos'] = df3.groupby('vendedor')['plano'].transform('nunique')"
   ]
  },
  {
   "cell_type": "code",
   "execution_count": 68,
   "id": "a695c445",
   "metadata": {},
   "outputs": [],
   "source": [
    "df3 = df3.sort_values(by=['vendedor', 'won_time'])"
   ]
  },
  {
   "cell_type": "code",
   "execution_count": 69,
   "id": "4ae0e6fc",
   "metadata": {},
   "outputs": [],
   "source": [
    "df3['dias_entre_vendas'] = df3.groupby('vendedor')['won_time'].diff().dt.days\n",
    "df3['dias_sem_venda'] = (df3['dias_entre_vendas'] - 1).clip(lower=0)\n",
    "df3['dias_sem_venda'] = df3['dias_sem_venda'].fillna(0)"
   ]
  },
  {
   "cell_type": "code",
   "execution_count": 70,
   "id": "c58543df",
   "metadata": {},
   "outputs": [],
   "source": [
    "tempo_medio = df3.groupby(['vendedor', 'ano', 'mes'])['dias_entre_vendas'].mean().reset_index()\n",
    "tempo_medio.rename(columns={'dias_entre_vendas': 'tempo_medio_entre_vendas'}, inplace=True)\n",
    "df3 = pd.merge(df3, tempo_medio, on=['vendedor', 'ano', 'mes'], how='left')"
   ]
  },
  {
   "cell_type": "code",
   "execution_count": 71,
   "id": "180b5d6b",
   "metadata": {},
   "outputs": [],
   "source": [
    "df3 = df3.drop(columns=['dias_entre_vendas'])"
   ]
  },
  {
   "cell_type": "markdown",
   "id": "99bd3569",
   "metadata": {},
   "source": [
    "## 3.6 Feature Comissão"
   ]
  },
  {
   "cell_type": "code",
   "execution_count": 72,
   "id": "7e27d6e2",
   "metadata": {},
   "outputs": [],
   "source": [
    "df3['comissao_percentual'] = np.where(df3['qtd_vendas_mensais'] >= 30, 0.015, 0.01)\n",
    "df3['valor_comissao'] = df3['mrr_receita_recorrente'] * df3['comissao_percentual']"
   ]
  },
  {
   "cell_type": "markdown",
   "id": "bf0853fc",
   "metadata": {},
   "source": [
    "## 3.7 Feature Desempenho"
   ]
  },
  {
   "cell_type": "code",
   "execution_count": 73,
   "id": "d6f4f760",
   "metadata": {},
   "outputs": [],
   "source": [
    "conditions = [\n",
    "    df3['qtd_vendas_mensais'] < 10,\n",
    "    (df3['qtd_vendas_mensais'] >= 10) & (df3['qtd_vendas_mensais'] < 30),\n",
    "    df3['qtd_vendas_mensais'] >= 30\n",
    "]\n",
    "choices = ['abaixo_da_meta', 'proximo_da_meta', 'atingiu_meta']\n",
    "df3['categoria_desempenho'] = np.select(conditions, choices)"
   ]
  },
  {
   "cell_type": "code",
   "execution_count": 74,
   "id": "0db9dedd",
   "metadata": {},
   "outputs": [
    {
     "data": {
      "text/html": [
       "<div>\n",
       "<style scoped>\n",
       "    .dataframe tbody tr th:only-of-type {\n",
       "        vertical-align: middle;\n",
       "    }\n",
       "\n",
       "    .dataframe tbody tr th {\n",
       "        vertical-align: top;\n",
       "    }\n",
       "\n",
       "    .dataframe thead th {\n",
       "        text-align: right;\n",
       "    }\n",
       "</style>\n",
       "<table border=\"1\" class=\"dataframe\">\n",
       "  <thead>\n",
       "    <tr style=\"text-align: right;\">\n",
       "      <th></th>\n",
       "      <th>id</th>\n",
       "      <th>won_time</th>\n",
       "      <th>vendedor</th>\n",
       "      <th>mrr_receita_recorrente</th>\n",
       "      <th>nrr_receita_nao_recorrente</th>\n",
       "      <th>pipeline_id</th>\n",
       "      <th>plano</th>\n",
       "      <th>periodicidade</th>\n",
       "      <th>churn_rate</th>\n",
       "      <th>ano</th>\n",
       "      <th>mes</th>\n",
       "      <th>dia</th>\n",
       "      <th>ano_mes</th>\n",
       "      <th>dia_da_semana</th>\n",
       "      <th>semana_do_ano</th>\n",
       "      <th>nome_mes</th>\n",
       "      <th>nome_dia_semana</th>\n",
       "      <th>eh_final_de_semana</th>\n",
       "      <th>receita_total</th>\n",
       "      <th>proporcao_mrr_nrr</th>\n",
       "      <th>mrr_categoria</th>\n",
       "      <th>churn_alto</th>\n",
       "      <th>qtd_vendas_totais</th>\n",
       "      <th>qtd_vendas_ano</th>\n",
       "      <th>qtd_vendas_mensais</th>\n",
       "      <th>qtd_vendas_semanal</th>\n",
       "      <th>qtd_tipos_planos_mes</th>\n",
       "      <th>qtd_tipos_planos_ano</th>\n",
       "      <th>qtd_tipos_planos_vendidos</th>\n",
       "      <th>dias_sem_venda</th>\n",
       "      <th>tempo_medio_entre_vendas</th>\n",
       "      <th>comissao_percentual</th>\n",
       "      <th>valor_comissao</th>\n",
       "      <th>categoria_desempenho</th>\n",
       "    </tr>\n",
       "  </thead>\n",
       "  <tbody>\n",
       "    <tr>\n",
       "      <th>923</th>\n",
       "      <td>400657</td>\n",
       "      <td>2022-04-25</td>\n",
       "      <td>Rafael Cunha</td>\n",
       "      <td>205</td>\n",
       "      <td>249</td>\n",
       "      <td>16</td>\n",
       "      <td>Astrea Starter</td>\n",
       "      <td>Mensal</td>\n",
       "      <td>0.110</td>\n",
       "      <td>2022</td>\n",
       "      <td>4</td>\n",
       "      <td>25</td>\n",
       "      <td>2022-04-01</td>\n",
       "      <td>0</td>\n",
       "      <td>17</td>\n",
       "      <td>April</td>\n",
       "      <td>Monday</td>\n",
       "      <td>False</td>\n",
       "      <td>454</td>\n",
       "      <td>0.452</td>\n",
       "      <td>baixo</td>\n",
       "      <td>True</td>\n",
       "      <td>126</td>\n",
       "      <td>112</td>\n",
       "      <td>8</td>\n",
       "      <td>3</td>\n",
       "      <td>1</td>\n",
       "      <td>6</td>\n",
       "      <td>6</td>\n",
       "      <td>4.000</td>\n",
       "      <td>3.500</td>\n",
       "      <td>0.010</td>\n",
       "      <td>2.050</td>\n",
       "      <td>abaixo_da_meta</td>\n",
       "    </tr>\n",
       "    <tr>\n",
       "      <th>315</th>\n",
       "      <td>478466</td>\n",
       "      <td>2022-01-31</td>\n",
       "      <td>Igor Martins</td>\n",
       "      <td>799</td>\n",
       "      <td>142</td>\n",
       "      <td>16</td>\n",
       "      <td>Astrea Starter</td>\n",
       "      <td>Anual</td>\n",
       "      <td>0.070</td>\n",
       "      <td>2022</td>\n",
       "      <td>1</td>\n",
       "      <td>31</td>\n",
       "      <td>2022-01-01</td>\n",
       "      <td>0</td>\n",
       "      <td>5</td>\n",
       "      <td>January</td>\n",
       "      <td>Monday</td>\n",
       "      <td>False</td>\n",
       "      <td>941</td>\n",
       "      <td>0.849</td>\n",
       "      <td>alto</td>\n",
       "      <td>False</td>\n",
       "      <td>639</td>\n",
       "      <td>629</td>\n",
       "      <td>103</td>\n",
       "      <td>18</td>\n",
       "      <td>2</td>\n",
       "      <td>6</td>\n",
       "      <td>6</td>\n",
       "      <td>0.000</td>\n",
       "      <td>0.275</td>\n",
       "      <td>0.015</td>\n",
       "      <td>11.985</td>\n",
       "      <td>atingiu_meta</td>\n",
       "    </tr>\n",
       "  </tbody>\n",
       "</table>\n",
       "</div>"
      ],
      "text/plain": [
       "         id   won_time      vendedor  mrr_receita_recorrente  \\\n",
       "923  400657 2022-04-25  Rafael Cunha                     205   \n",
       "315  478466 2022-01-31  Igor Martins                     799   \n",
       "\n",
       "     nrr_receita_nao_recorrente  pipeline_id           plano periodicidade  \\\n",
       "923                         249           16  Astrea Starter        Mensal   \n",
       "315                         142           16  Astrea Starter         Anual   \n",
       "\n",
       "     churn_rate   ano  mes  dia    ano_mes  dia_da_semana  semana_do_ano  \\\n",
       "923       0.110  2022    4   25 2022-04-01              0             17   \n",
       "315       0.070  2022    1   31 2022-01-01              0              5   \n",
       "\n",
       "    nome_mes nome_dia_semana  eh_final_de_semana  receita_total  \\\n",
       "923    April          Monday               False            454   \n",
       "315  January          Monday               False            941   \n",
       "\n",
       "     proporcao_mrr_nrr mrr_categoria  churn_alto  qtd_vendas_totais  \\\n",
       "923              0.452         baixo        True                126   \n",
       "315              0.849          alto       False                639   \n",
       "\n",
       "     qtd_vendas_ano  qtd_vendas_mensais  qtd_vendas_semanal  \\\n",
       "923             112                   8                   3   \n",
       "315             629                 103                  18   \n",
       "\n",
       "     qtd_tipos_planos_mes  qtd_tipos_planos_ano  qtd_tipos_planos_vendidos  \\\n",
       "923                     1                     6                          6   \n",
       "315                     2                     6                          6   \n",
       "\n",
       "     dias_sem_venda  tempo_medio_entre_vendas  comissao_percentual  \\\n",
       "923           4.000                     3.500                0.010   \n",
       "315           0.000                     0.275                0.015   \n",
       "\n",
       "     valor_comissao categoria_desempenho  \n",
       "923           2.050       abaixo_da_meta  \n",
       "315          11.985         atingiu_meta  "
      ]
     },
     "execution_count": 74,
     "metadata": {},
     "output_type": "execute_result"
    }
   ],
   "source": [
    "df3.sample(2)"
   ]
  },
  {
   "cell_type": "markdown",
   "id": "95711520",
   "metadata": {},
   "source": [
    "## 3.5 Save"
   ]
  },
  {
   "cell_type": "markdown",
   "id": "39117ce5",
   "metadata": {},
   "source": [
    "### 3.5.1 Processed Data"
   ]
  },
  {
   "cell_type": "code",
   "execution_count": 75,
   "id": "16394fd8",
   "metadata": {},
   "outputs": [
    {
     "name": "stdout",
     "output_type": "stream",
     "text": [
      "Arquivo salvo com sucesso em: ../data/processed/processed_data.csv\n"
     ]
    }
   ],
   "source": [
    "save_data_csv(df3.sort_values(by=['won_time']), '../data/processed/processed_data.csv')"
   ]
  },
  {
   "cell_type": "markdown",
   "id": "f4b94d72",
   "metadata": {},
   "source": [
    "### 3.5.2 Delivery Data"
   ]
  },
  {
   "cell_type": "code",
   "execution_count": 76,
   "id": "5d15574b",
   "metadata": {},
   "outputs": [
    {
     "data": {
      "text/html": [
       "<div>\n",
       "<style scoped>\n",
       "    .dataframe tbody tr th:only-of-type {\n",
       "        vertical-align: middle;\n",
       "    }\n",
       "\n",
       "    .dataframe tbody tr th {\n",
       "        vertical-align: top;\n",
       "    }\n",
       "\n",
       "    .dataframe thead th {\n",
       "        text-align: right;\n",
       "    }\n",
       "</style>\n",
       "<table border=\"1\" class=\"dataframe\">\n",
       "  <thead>\n",
       "    <tr style=\"text-align: right;\">\n",
       "      <th></th>\n",
       "      <th>0</th>\n",
       "      <th>1</th>\n",
       "    </tr>\n",
       "  </thead>\n",
       "  <tbody>\n",
       "    <tr>\n",
       "      <th>id</th>\n",
       "      <td>240780</td>\n",
       "      <td>592692</td>\n",
       "    </tr>\n",
       "    <tr>\n",
       "      <th>won_time</th>\n",
       "      <td>2022-01-03 00:00:00</td>\n",
       "      <td>2022-01-10 00:00:00</td>\n",
       "    </tr>\n",
       "    <tr>\n",
       "      <th>vendedor</th>\n",
       "      <td>Bruna Lopes</td>\n",
       "      <td>Bruna Lopes</td>\n",
       "    </tr>\n",
       "    <tr>\n",
       "      <th>mrr_receita_recorrente</th>\n",
       "      <td>404</td>\n",
       "      <td>652</td>\n",
       "    </tr>\n",
       "    <tr>\n",
       "      <th>nrr_receita_nao_recorrente</th>\n",
       "      <td>287</td>\n",
       "      <td>362</td>\n",
       "    </tr>\n",
       "    <tr>\n",
       "      <th>pipeline_id</th>\n",
       "      <td>36</td>\n",
       "      <td>36</td>\n",
       "    </tr>\n",
       "    <tr>\n",
       "      <th>plano</th>\n",
       "      <td>Astrea Starter</td>\n",
       "      <td>Astrea Starter</td>\n",
       "    </tr>\n",
       "    <tr>\n",
       "      <th>periodicidade</th>\n",
       "      <td>Mensal</td>\n",
       "      <td>Mensal</td>\n",
       "    </tr>\n",
       "    <tr>\n",
       "      <th>churn_rate</th>\n",
       "      <td>0.070</td>\n",
       "      <td>0.070</td>\n",
       "    </tr>\n",
       "    <tr>\n",
       "      <th>ano</th>\n",
       "      <td>2022</td>\n",
       "      <td>2022</td>\n",
       "    </tr>\n",
       "    <tr>\n",
       "      <th>mes</th>\n",
       "      <td>1</td>\n",
       "      <td>1</td>\n",
       "    </tr>\n",
       "    <tr>\n",
       "      <th>dia</th>\n",
       "      <td>3</td>\n",
       "      <td>10</td>\n",
       "    </tr>\n",
       "    <tr>\n",
       "      <th>ano_mes</th>\n",
       "      <td>2022-01-01 00:00:00</td>\n",
       "      <td>2022-01-01 00:00:00</td>\n",
       "    </tr>\n",
       "    <tr>\n",
       "      <th>dia_da_semana</th>\n",
       "      <td>0</td>\n",
       "      <td>0</td>\n",
       "    </tr>\n",
       "    <tr>\n",
       "      <th>semana_do_ano</th>\n",
       "      <td>1</td>\n",
       "      <td>2</td>\n",
       "    </tr>\n",
       "    <tr>\n",
       "      <th>nome_mes</th>\n",
       "      <td>January</td>\n",
       "      <td>January</td>\n",
       "    </tr>\n",
       "    <tr>\n",
       "      <th>nome_dia_semana</th>\n",
       "      <td>Monday</td>\n",
       "      <td>Monday</td>\n",
       "    </tr>\n",
       "    <tr>\n",
       "      <th>eh_final_de_semana</th>\n",
       "      <td>False</td>\n",
       "      <td>False</td>\n",
       "    </tr>\n",
       "    <tr>\n",
       "      <th>receita_total</th>\n",
       "      <td>691</td>\n",
       "      <td>1014</td>\n",
       "    </tr>\n",
       "    <tr>\n",
       "      <th>proporcao_mrr_nrr</th>\n",
       "      <td>0.585</td>\n",
       "      <td>0.643</td>\n",
       "    </tr>\n",
       "    <tr>\n",
       "      <th>mrr_categoria</th>\n",
       "      <td>medio</td>\n",
       "      <td>alto</td>\n",
       "    </tr>\n",
       "    <tr>\n",
       "      <th>churn_alto</th>\n",
       "      <td>False</td>\n",
       "      <td>False</td>\n",
       "    </tr>\n",
       "    <tr>\n",
       "      <th>qtd_vendas_totais</th>\n",
       "      <td>103</td>\n",
       "      <td>103</td>\n",
       "    </tr>\n",
       "    <tr>\n",
       "      <th>qtd_vendas_ano</th>\n",
       "      <td>102</td>\n",
       "      <td>102</td>\n",
       "    </tr>\n",
       "    <tr>\n",
       "      <th>qtd_vendas_mensais</th>\n",
       "      <td>9</td>\n",
       "      <td>9</td>\n",
       "    </tr>\n",
       "    <tr>\n",
       "      <th>qtd_vendas_semanal</th>\n",
       "      <td>1</td>\n",
       "      <td>1</td>\n",
       "    </tr>\n",
       "    <tr>\n",
       "      <th>qtd_tipos_planos_mes</th>\n",
       "      <td>1</td>\n",
       "      <td>1</td>\n",
       "    </tr>\n",
       "    <tr>\n",
       "      <th>qtd_tipos_planos_ano</th>\n",
       "      <td>4</td>\n",
       "      <td>4</td>\n",
       "    </tr>\n",
       "    <tr>\n",
       "      <th>qtd_tipos_planos_vendidos</th>\n",
       "      <td>4</td>\n",
       "      <td>4</td>\n",
       "    </tr>\n",
       "    <tr>\n",
       "      <th>dias_sem_venda</th>\n",
       "      <td>0.000</td>\n",
       "      <td>6.000</td>\n",
       "    </tr>\n",
       "    <tr>\n",
       "      <th>tempo_medio_entre_vendas</th>\n",
       "      <td>3.375</td>\n",
       "      <td>3.375</td>\n",
       "    </tr>\n",
       "    <tr>\n",
       "      <th>comissao_percentual</th>\n",
       "      <td>0.010</td>\n",
       "      <td>0.010</td>\n",
       "    </tr>\n",
       "    <tr>\n",
       "      <th>valor_comissao</th>\n",
       "      <td>4.040</td>\n",
       "      <td>6.520</td>\n",
       "    </tr>\n",
       "    <tr>\n",
       "      <th>categoria_desempenho</th>\n",
       "      <td>abaixo_da_meta</td>\n",
       "      <td>abaixo_da_meta</td>\n",
       "    </tr>\n",
       "  </tbody>\n",
       "</table>\n",
       "</div>"
      ],
      "text/plain": [
       "                                              0                    1\n",
       "id                                       240780               592692\n",
       "won_time                    2022-01-03 00:00:00  2022-01-10 00:00:00\n",
       "vendedor                            Bruna Lopes          Bruna Lopes\n",
       "mrr_receita_recorrente                      404                  652\n",
       "nrr_receita_nao_recorrente                  287                  362\n",
       "pipeline_id                                  36                   36\n",
       "plano                            Astrea Starter       Astrea Starter\n",
       "periodicidade                            Mensal               Mensal\n",
       "churn_rate                                0.070                0.070\n",
       "ano                                        2022                 2022\n",
       "mes                                           1                    1\n",
       "dia                                           3                   10\n",
       "ano_mes                     2022-01-01 00:00:00  2022-01-01 00:00:00\n",
       "dia_da_semana                                 0                    0\n",
       "semana_do_ano                                 1                    2\n",
       "nome_mes                                January              January\n",
       "nome_dia_semana                          Monday               Monday\n",
       "eh_final_de_semana                        False                False\n",
       "receita_total                               691                 1014\n",
       "proporcao_mrr_nrr                         0.585                0.643\n",
       "mrr_categoria                             medio                 alto\n",
       "churn_alto                                False                False\n",
       "qtd_vendas_totais                           103                  103\n",
       "qtd_vendas_ano                              102                  102\n",
       "qtd_vendas_mensais                            9                    9\n",
       "qtd_vendas_semanal                            1                    1\n",
       "qtd_tipos_planos_mes                          1                    1\n",
       "qtd_tipos_planos_ano                          4                    4\n",
       "qtd_tipos_planos_vendidos                     4                    4\n",
       "dias_sem_venda                            0.000                6.000\n",
       "tempo_medio_entre_vendas                  3.375                3.375\n",
       "comissao_percentual                       0.010                0.010\n",
       "valor_comissao                            4.040                6.520\n",
       "categoria_desempenho             abaixo_da_meta       abaixo_da_meta"
      ]
     },
     "execution_count": 76,
     "metadata": {},
     "output_type": "execute_result"
    }
   ],
   "source": [
    "df3.head(2).T"
   ]
  },
  {
   "cell_type": "code",
   "execution_count": 77,
   "id": "fc6e630c",
   "metadata": {},
   "outputs": [
    {
     "data": {
      "text/plain": [
       "id                                     int32\n",
       "won_time                      datetime64[ns]\n",
       "vendedor                              object\n",
       "mrr_receita_recorrente                 int64\n",
       "nrr_receita_nao_recorrente             int64\n",
       "pipeline_id                            int32\n",
       "plano                                 object\n",
       "periodicidade                         object\n",
       "churn_rate                           float64\n",
       "ano                                    int32\n",
       "mes                                    int32\n",
       "dia                                    int32\n",
       "ano_mes                       datetime64[ns]\n",
       "dia_da_semana                          int32\n",
       "semana_do_ano                         UInt32\n",
       "nome_mes                              object\n",
       "nome_dia_semana                       object\n",
       "eh_final_de_semana                      bool\n",
       "receita_total                          int64\n",
       "proporcao_mrr_nrr                    float64\n",
       "mrr_categoria                       category\n",
       "churn_alto                              bool\n",
       "qtd_vendas_totais                      int64\n",
       "qtd_vendas_ano                         int64\n",
       "qtd_vendas_mensais                     int64\n",
       "qtd_vendas_semanal                     int64\n",
       "qtd_tipos_planos_mes                   int64\n",
       "qtd_tipos_planos_ano                   int64\n",
       "qtd_tipos_planos_vendidos              int64\n",
       "dias_sem_venda                       float64\n",
       "tempo_medio_entre_vendas             float64\n",
       "comissao_percentual                  float64\n",
       "valor_comissao                       float64\n",
       "categoria_desempenho                  object\n",
       "dtype: object"
      ]
     },
     "execution_count": 77,
     "metadata": {},
     "output_type": "execute_result"
    }
   ],
   "source": [
    "df3.dtypes"
   ]
  },
  {
   "cell_type": "code",
   "execution_count": null,
   "id": "19e3f4d2",
   "metadata": {},
   "outputs": [],
   "source": [
    "analise = df3.groupby(['ano', 'mes', 'vendedor']).agg({\n",
    "    'receita_total': 'sum',\n",
    "    'mrr_receita_recorrente': 'sum',\n",
    "    'nrr_receita_nao_recorrente': 'sum',\n",
    "    'plano': 'count',\n",
    "    'qtd_vendas_mensais': 'mean',\n",
    "    'churn_rate': 'mean',\n",
    "    'valor_comissao': 'sum'\n",
    "}).reset_index()\n",
    "\n",
    "analise.columns = [\n",
    "    'Ano',\n",
    "    'Mês',\n",
    "    'Vendedor',\n",
    "    'Receita Total',\n",
    "    'MRR Total',\n",
    "    'NRR Total',\n",
    "    'Vendas Totais',\n",
    "    'Vendas Mensais (Média)',\n",
    "    'Churn Rate (Média)',\n",
    "    'Comissão Total'\n",
    "]\n",
    "\n",
    "formato = {\n",
    "    'Receita Total': 'R${:,.2f}',\n",
    "    'MRR Total': 'R${:,.2f}',\n",
    "    'NRR Total': 'R${:,.2f}',\n",
    "    'Vendas Mensais (Média)': '{:.1f}',\n",
    "    'Churn Rate (Média)': '{:.2%}',\n",
    "    'Comissão Total': 'R${:,.2f}'\n",
    "}"
   ]
  },
  {
   "cell_type": "code",
   "execution_count": 79,
   "id": "ef805975",
   "metadata": {},
   "outputs": [
    {
     "data": {
      "text/html": [
       "<div>\n",
       "<style scoped>\n",
       "    .dataframe tbody tr th:only-of-type {\n",
       "        vertical-align: middle;\n",
       "    }\n",
       "\n",
       "    .dataframe tbody tr th {\n",
       "        vertical-align: top;\n",
       "    }\n",
       "\n",
       "    .dataframe thead th {\n",
       "        text-align: right;\n",
       "    }\n",
       "</style>\n",
       "<table border=\"1\" class=\"dataframe\">\n",
       "  <thead>\n",
       "    <tr style=\"text-align: right;\">\n",
       "      <th></th>\n",
       "      <th>0</th>\n",
       "      <th>1</th>\n",
       "    </tr>\n",
       "  </thead>\n",
       "  <tbody>\n",
       "    <tr>\n",
       "      <th>Ano</th>\n",
       "      <td>2022</td>\n",
       "      <td>2022</td>\n",
       "    </tr>\n",
       "    <tr>\n",
       "      <th>Mês</th>\n",
       "      <td>1</td>\n",
       "      <td>1</td>\n",
       "    </tr>\n",
       "    <tr>\n",
       "      <th>Vendedor</th>\n",
       "      <td>Bruna Lopes</td>\n",
       "      <td>Fernanda Dias</td>\n",
       "    </tr>\n",
       "    <tr>\n",
       "      <th>Receita Total</th>\n",
       "      <td>7211</td>\n",
       "      <td>5378</td>\n",
       "    </tr>\n",
       "    <tr>\n",
       "      <th>MRR Total</th>\n",
       "      <td>4518</td>\n",
       "      <td>3566</td>\n",
       "    </tr>\n",
       "    <tr>\n",
       "      <th>NRR Total</th>\n",
       "      <td>2693</td>\n",
       "      <td>1812</td>\n",
       "    </tr>\n",
       "    <tr>\n",
       "      <th>Vendas Totais</th>\n",
       "      <td>9</td>\n",
       "      <td>6</td>\n",
       "    </tr>\n",
       "    <tr>\n",
       "      <th>Vendas Mensais (Média)</th>\n",
       "      <td>9.000</td>\n",
       "      <td>6.000</td>\n",
       "    </tr>\n",
       "    <tr>\n",
       "      <th>Churn Rate (Média)</th>\n",
       "      <td>0.070</td>\n",
       "      <td>0.250</td>\n",
       "    </tr>\n",
       "    <tr>\n",
       "      <th>Comissão Total</th>\n",
       "      <td>45.180</td>\n",
       "      <td>35.660</td>\n",
       "    </tr>\n",
       "  </tbody>\n",
       "</table>\n",
       "</div>"
      ],
      "text/plain": [
       "                                  0              1\n",
       "Ano                            2022           2022\n",
       "Mês                               1              1\n",
       "Vendedor                Bruna Lopes  Fernanda Dias\n",
       "Receita Total                  7211           5378\n",
       "MRR Total                      4518           3566\n",
       "NRR Total                      2693           1812\n",
       "Vendas Totais                     9              6\n",
       "Vendas Mensais (Média)        9.000          6.000\n",
       "Churn Rate (Média)            0.070          0.250\n",
       "Comissão Total               45.180         35.660"
      ]
     },
     "execution_count": 79,
     "metadata": {},
     "output_type": "execute_result"
    }
   ],
   "source": [
    "analise.head(2).T"
   ]
  },
  {
   "cell_type": "code",
   "execution_count": 80,
   "id": "b01fc86d",
   "metadata": {},
   "outputs": [
    {
     "name": "stdout",
     "output_type": "stream",
     "text": [
      "Arquivo salvo com sucesso em: ../data/delivery/analise_vendas.xlsx\n"
     ]
    }
   ],
   "source": [
    "save_data_excel(analise, '../data/delivery/analise_vendas.xlsx')"
   ]
  }
 ],
 "metadata": {
  "kernelspec": {
   "display_name": "venv",
   "language": "python",
   "name": "python3"
  },
  "language_info": {
   "codemirror_mode": {
    "name": "ipython",
    "version": 3
   },
   "file_extension": ".py",
   "mimetype": "text/x-python",
   "name": "python",
   "nbconvert_exporter": "python",
   "pygments_lexer": "ipython3",
   "version": "3.8.10"
  }
 },
 "nbformat": 4,
 "nbformat_minor": 5
}
